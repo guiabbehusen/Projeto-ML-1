{
 "cells": [
  {
   "cell_type": "code",
   "execution_count": 2,
   "id": "a800aa20-fb66-419e-8ed9-585bdecd3f1a",
   "metadata": {},
   "outputs": [],
   "source": [
    "import pandas, numpy, tensorflow"
   ]
  },
  {
   "cell_type": "code",
   "execution_count": null,
   "id": "06037cf3-f41f-449b-82f4-2d72f7252a3b",
   "metadata": {},
   "outputs": [],
   "source": []
  }
 ],
 "metadata": {
  "kernelspec": {
   "display_name": "Python 3 (ipykernel)",
   "language": "python",
   "name": "python3"
  },
  "language_info": {
   "codemirror_mode": {
    "name": "ipython",
    "version": 3
   },
   "file_extension": ".py",
   "mimetype": "text/x-python",
   "name": "python",
   "nbconvert_exporter": "python",
   "pygments_lexer": "ipython3",
   "version": "3.10.9"
  }
 },
 "nbformat": 4,
 "nbformat_minor": 5
}
