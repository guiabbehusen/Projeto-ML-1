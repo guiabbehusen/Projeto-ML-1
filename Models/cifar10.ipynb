{
 "cells": [
  {
   "cell_type": "code",
   "execution_count": 41,
   "id": "a800aa20-fb66-419e-8ed9-585bdecd3f1a",
   "metadata": {},
   "outputs": [],
   "source": [
    "import pandas, numpy, tensorflow\n",
    "from tensorflow import keras"
   ]
  },
  {
   "cell_type": "code",
   "execution_count": 42,
   "id": "06037cf3-f41f-449b-82f4-2d72f7252a3b",
   "metadata": {},
   "outputs": [],
   "source": [
    "(X_train_full, y_train_full), (X_test, y_test) =  keras.datasets.cifar10.load_data()"
   ]
  },
  {
   "cell_type": "code",
   "execution_count": 43,
   "id": "e451b9b3-1704-4428-9847-cf384b81ead9",
   "metadata": {},
   "outputs": [],
   "source": [
    "import matplotlib.pyplot as plt"
   ]
  },
  {
   "cell_type": "code",
   "execution_count": 44,
   "id": "895fb5e8-ebcb-426d-978f-f22a0136b187",
   "metadata": {},
   "outputs": [
    {
     "data": {
      "text/plain": [
       "(50000, 32, 32, 3)"
      ]
     },
     "execution_count": 44,
     "metadata": {},
     "output_type": "execute_result"
    }
   ],
   "source": [
    "X_train.shape"
   ]
  },
  {
   "cell_type": "code",
   "execution_count": 45,
   "id": "63aea1af-7ada-4d04-b158-44576c176058",
   "metadata": {},
   "outputs": [
    {
     "data": {
      "image/png": "[encoded data removed]",
      "text/plain": [
       "<Figure size 640x480 with 1 Axes>"
      ]
     },
     "metadata": {},
     "output_type": "display_data"
    }
   ],
   "source": [
    "plt.imshow(X_train[0])\n",
    "plt.title(f\"Label: {y_train[0]}\")\n",
    "plt.show()"
   ]
  },
  {
   "cell_type": "code",
   "execution_count": 80,
   "id": "3b651442-974a-4215-af66-aaa036f1c8e6",
   "metadata": {},
   "outputs": [],
   "source": [
    "model = keras.models.Sequential()\n",
    "model.add(keras.layers.Flatten(input_shape=[32,32, 3]))\n",
    "for _ in range(20):\n",
    "    model.add(keras.layers.Dense(100, activation=\"elu\", kernel_initializer=keras.initializers.HeNormal()))\n",
    "model.add(keras.layers.Dense(10, activation=\"softmax\"))"
   ]
  },
  {
   "cell_type": "code",
   "execution_count": 81,
   "id": "351e239b-2608-4adc-a4ab-ef43f12e8bbc",
   "metadata": {},
   "outputs": [],
   "source": [
    "early_stopping = keras.callbacks.EarlyStopping(patience=10)"
   ]
  },
  {
   "cell_type": "code",
   "execution_count": 82,
   "id": "9c150873-7b86-45d9-83db-4d8abfa40271",
   "metadata": {},
   "outputs": [],
   "source": [
    "model.compile(loss=\"sparse_categorical_crossentropy\", optimizer=\"nadam\", metrics=[\"accuracy\"])"
   ]
  },
  {
   "cell_type": "code",
   "execution_count": 83,
   "id": "466c58da-dbb0-4652-9cfb-2365b81d8f8a",
   "metadata": {},
   "outputs": [],
   "source": [
    "X_train = X_train_full[5000:]\n",
    "y_train = y_train_full[5000:]\n",
    "X_valid = X_train_full[:5000]\n",
    "y_valid = y_train_full[:5000]"
   ]
  },
  {
   "cell_type": "code",
   "execution_count": 84,
   "id": "6413502d-735f-4d54-8611-2ec396abcc39",
   "metadata": {},
   "outputs": [],
   "source": [
    "model_checkpoint = keras.callbacks.ModelCheckpoint(\"my_cifar10_model.h5\", save_best_only=True)"
   ]
  },
  {
   "cell_type": "code",
   "execution_count": 85,
   "id": "e08903b6-57fb-41c8-a151-191042f87a28",
   "metadata": {},
   "outputs": [],
   "source": [
    "run_index = 1"
   ]
  },
  {
   "cell_type": "code",
   "execution_count": 86,
   "id": "1074fc54-826e-484b-a5cf-66ad5773745e",
   "metadata": {},
   "outputs": [],
   "source": [
    "import os\n",
    "run_logdir = os.path.join(os.curdir, \"my_cifar10_logs\", \"run_{:03d}\".format(run_index))\n",
    "tensorboard_cb = keras.callbacks.TensorBoard(run_logdir)\n",
    "callbacks=[early_stopping, model_checkpoint, tensorboard_cb]"
   ]
  },
  {
   "cell_type": "code",
   "execution_count": 87,
   "id": "396d28a1-eb04-49cc-846b-8e22693301ca",
   "metadata": {},
   "outputs": [
    {
     "name": "stdout",
     "output_type": "stream",
     "text": [
      "The tensorboard extension is already loaded. To reload it, use:\n",
      "  %reload_ext tensorboard\n"
     ]
    }
   ],
   "source": [
    "%load_ext tensorboard"
   ]
  },
  {
   "cell_type": "code",
   "execution_count": 88,
   "id": "67314b9f-b8b3-4570-9652-6d69c1205a95",
   "metadata": {},
   "outputs": [
    {
     "data": {
      "text/plain": [
       "Reusing TensorBoard on port 6006 (pid 512), started 8:11:41 ago. (Use '!kill 512' to kill it.)"
      ]
     },
     "metadata": {},
     "output_type": "display_data"
    },
    {
     "data": {
      "text/html": [
       "\n",
       "      <iframe id=\"tensorboard-frame-4242bc19df58c2eb\" width=\"100%\" height=\"800\" frameborder=\"0\">\n",
       "      </iframe>\n",
       "      <script>\n",
       "        (function() {\n",
       "          const frame = document.getElementById(\"tensorboard-frame-4242bc19df58c2eb\");\n",
       "          const url = new URL(\"/\", window.location);\n",
       "          const port = 6006;\n",
       "          if (port) {\n",
       "            url.port = port;\n",
       "          }\n",
       "          frame.src = url;\n",
       "        })();\n",
       "      </script>\n",
       "    "
      ],
      "text/plain": [
       "<IPython.core.display.HTML object>"
      ]
     },
     "metadata": {},
     "output_type": "display_data"
    }
   ],
   "source": [
    "%tensorboard --logdir=./my_cifar10_logs --port=6006"
   ]
  },
  {
   "cell_type": "code",
   "execution_count": 65,
   "id": "91e0feb4-45aa-40da-b9b4-cbc71481f683",
   "metadata": {},
   "outputs": [
    {
     "name": "stdout",
     "output_type": "stream",
     "text": [
      "Epoch 1/100\n",
      "1407/1407 [==============================] - 11s 6ms/step - loss: 3.0012 - accuracy: 0.2093 - val_loss: 2.0961 - val_accuracy: 0.2576\n",
      "Epoch 2/100\n",
      "1407/1407 [==============================] - 9s 6ms/step - loss: 1.9223 - accuracy: 0.2884 - val_loss: 1.9520 - val_accuracy: 0.2722\n",
      "Epoch 3/100\n",
      "1407/1407 [==============================] - 8s 6ms/step - loss: 1.8672 - accuracy: 0.3155 - val_loss: 1.9934 - val_accuracy: 0.2666\n",
      "Epoch 4/100\n",
      "1407/1407 [==============================] - 8s 6ms/step - loss: 1.8363 - accuracy: 0.3261 - val_loss: 1.8553 - val_accuracy: 0.3110\n",
      "Epoch 5/100\n",
      "1407/1407 [==============================] - 8s 6ms/step - loss: 1.8072 - accuracy: 0.3429 - val_loss: 1.9523 - val_accuracy: 0.2898\n",
      "Epoch 6/100\n",
      "1407/1407 [==============================] - 8s 6ms/step - loss: 1.7803 - accuracy: 0.3535 - val_loss: 1.8031 - val_accuracy: 0.3242\n",
      "Epoch 7/100\n",
      "1407/1407 [==============================] - 8s 6ms/step - loss: 1.7553 - accuracy: 0.3644 - val_loss: 1.7597 - val_accuracy: 0.3654\n",
      "Epoch 8/100\n",
      "1407/1407 [==============================] - 8s 6ms/step - loss: 1.7265 - accuracy: 0.3761 - val_loss: 1.8400 - val_accuracy: 0.3388\n",
      "Epoch 9/100\n",
      "1407/1407 [==============================] - 8s 6ms/step - loss: 1.6989 - accuracy: 0.3867 - val_loss: 1.7218 - val_accuracy: 0.3608\n",
      "Epoch 10/100\n",
      "1407/1407 [==============================] - 8s 6ms/step - loss: 1.6801 - accuracy: 0.3938 - val_loss: 1.7457 - val_accuracy: 0.3602\n",
      "Epoch 11/100\n",
      "1407/1407 [==============================] - 8s 6ms/step - loss: 1.6631 - accuracy: 0.4034 - val_loss: 1.6991 - val_accuracy: 0.3914\n",
      "Epoch 12/100\n",
      "1407/1407 [==============================] - 8s 6ms/step - loss: 1.6533 - accuracy: 0.4063 - val_loss: 1.7088 - val_accuracy: 0.3786\n",
      "Epoch 13/100\n",
      "1407/1407 [==============================] - 8s 6ms/step - loss: 1.6365 - accuracy: 0.4136 - val_loss: 1.6710 - val_accuracy: 0.4122\n",
      "Epoch 14/100\n",
      "1407/1407 [==============================] - 8s 6ms/step - loss: 3.2620 - accuracy: 0.3334 - val_loss: 2.1287 - val_accuracy: 0.2590\n",
      "Epoch 15/100\n",
      "1407/1407 [==============================] - 8s 6ms/step - loss: 1.8233 - accuracy: 0.3334 - val_loss: 1.8718 - val_accuracy: 0.3238\n",
      "Epoch 16/100\n",
      "1407/1407 [==============================] - 8s 6ms/step - loss: 1.7703 - accuracy: 0.3493 - val_loss: 1.7720 - val_accuracy: 0.3610\n",
      "Epoch 17/100\n",
      "1407/1407 [==============================] - 8s 6ms/step - loss: 1.7437 - accuracy: 0.3625 - val_loss: 1.7730 - val_accuracy: 0.3588\n",
      "Epoch 18/100\n",
      "1407/1407 [==============================] - 8s 6ms/step - loss: 1.7292 - accuracy: 0.3685 - val_loss: 1.7384 - val_accuracy: 0.3676\n",
      "Epoch 19/100\n",
      "1407/1407 [==============================] - 8s 6ms/step - loss: 1.7162 - accuracy: 0.3758 - val_loss: 1.7453 - val_accuracy: 0.3594\n",
      "Epoch 20/100\n",
      "1407/1407 [==============================] - 8s 6ms/step - loss: 1.6944 - accuracy: 0.3802 - val_loss: 1.7272 - val_accuracy: 0.3776\n",
      "Epoch 21/100\n",
      "1407/1407 [==============================] - 8s 6ms/step - loss: 2.6195 - accuracy: 0.3317 - val_loss: 2.1558 - val_accuracy: 0.1606\n",
      "Epoch 22/100\n",
      "1407/1407 [==============================] - 8s 6ms/step - loss: 2.0715 - accuracy: 0.1989 - val_loss: 2.0812 - val_accuracy: 0.1826\n",
      "Epoch 23/100\n",
      "1407/1407 [==============================] - 8s 6ms/step - loss: 1.9353 - accuracy: 0.2494 - val_loss: 1.8722 - val_accuracy: 0.2692\n"
     ]
    },
    {
     "data": {
      "text/plain": [
       "<keras.callbacks.History at 0x21ec45288e0>"
      ]
     },
     "execution_count": 65,
     "metadata": {},
     "output_type": "execute_result"
    }
   ],
   "source": [
    "model.fit(X_train, y_train, epochs=100, validation_data=[X_valid, y_valid], callbacks=callbacks)"
   ]
  },
  {
   "cell_type": "code",
   "execution_count": 67,
   "id": "ff27d507-7580-4f61-b370-f3bcbfb99059",
   "metadata": {},
   "outputs": [
    {
     "data": {
      "text/plain": [
       "Reusing TensorBoard on port 6006 (pid 512), started 0:04:28 ago. (Use '!kill 512' to kill it.)"
      ]
     },
     "metadata": {},
     "output_type": "display_data"
    },
    {
     "data": {
      "text/html": [
       "\n",
       "      <iframe id=\"tensorboard-frame-daf007f5f6b927de\" width=\"100%\" height=\"800\" frameborder=\"0\">\n",
       "      </iframe>\n",
       "      <script>\n",
       "        (function() {\n",
       "          const frame = document.getElementById(\"tensorboard-frame-daf007f5f6b927de\");\n",
       "          const url = new URL(\"/\", window.location);\n",
       "          const port = 6006;\n",
       "          if (port) {\n",
       "            url.port = port;\n",
       "          }\n",
       "          frame.src = url;\n",
       "        })();\n",
       "      </script>\n",
       "    "
      ],
      "text/plain": [
       "<IPython.core.display.HTML object>"
      ]
     },
     "metadata": {},
     "output_type": "display_data"
    }
   ],
   "source": [
    "%tensorboard --logdir=./my_cifar10_logs --port=6006"
   ]
  },
  {
   "cell_type": "code",
   "execution_count": 69,
   "id": "f1bfca87-7199-4d8b-9174-1b71f66a5c1c",
   "metadata": {},
   "outputs": [],
   "source": [
    "model = keras.models.load_model(\"my_cifar10_model.h5\")"
   ]
  },
  {
   "cell_type": "code",
   "execution_count": 70,
   "id": "69c0c05f-cd54-474a-ab94-6fb71116ff6b",
   "metadata": {},
   "outputs": [
    {
     "name": "stdout",
     "output_type": "stream",
     "text": [
      "157/157 [==============================] - 0s 1ms/step - loss: 1.6710 - accuracy: 0.4122\n"
     ]
    },
    {
     "data": {
      "text/plain": [
       "[1.6709564924240112, 0.412200003862381]"
      ]
     },
     "execution_count": 70,
     "metadata": {},
     "output_type": "execute_result"
    }
   ],
   "source": [
    "model.evaluate(X_valid, y_valid)"
   ]
  },
  {
   "cell_type": "code",
   "execution_count": 101,
   "id": "2866115c-40f9-4a5b-8f99-532e196a1f20",
   "metadata": {},
   "outputs": [],
   "source": [
    "early_stopping = keras.callbacks.EarlyStopping(patience=10)\n",
    "model = keras.models.Sequential()\n",
    "model.add(keras.layers.Flatten(input_shape=[32,32, 3]))\n",
    "model.add(keras.layers.BatchNormalization())\n",
    "for _ in range(20):\n",
    "    model.add(keras.layers.Dense(100, kernel_initializer=keras.initializers.HeNormal()))\n",
    "    model.add(keras.layers.BatchNormalization())\n",
    "    model.add(keras.layers.Activation(\"elu\"))\n",
    "model.add(keras.layers.Dense(10, activation=\"softmax\"))"
   ]
  },
  {
   "cell_type": "code",
   "execution_count": 102,
   "id": "df350376-0411-428b-b876-7d4a623a58a7",
   "metadata": {},
   "outputs": [],
   "source": [
    "optimizer = keras.optimizers.Nadam(learning_rate=5e-4)"
   ]
  },
  {
   "cell_type": "code",
   "execution_count": 103,
   "id": "23bfc445-aa34-4dc1-be4a-b7f9878e04e8",
   "metadata": {},
   "outputs": [],
   "source": [
    "model.compile(loss=\"sparse_categorical_crossentropy\", optimizer=optimizer, metrics=[\"accuracy\"])"
   ]
  },
  {
   "cell_type": "code",
   "execution_count": 104,
   "id": "b1669a4d-e4b3-48a0-9bfa-6b1e87ad4edf",
   "metadata": {},
   "outputs": [],
   "source": [
    "model_checkpoint = keras.callbacks.ModelCheckpoint(\"my_cifar10_bn_model.h5\", save_best_only=True)\n",
    "import os\n",
    "run_logdir = os.path.join(os.curdir, \"my_cifar10_logs\", \"run_{:03d}\".format(run_index))\n",
    "tensorboard_cb = keras.callbacks.TensorBoard(run_logdir)\n",
    "callbacks=[early_stopping, model_checkpoint, tensorboard_cb]"
   ]
  },
  {
   "cell_type": "code",
   "execution_count": 105,
   "id": "10982a45-f964-41f3-875d-50bc0e92dc6e",
   "metadata": {},
   "outputs": [
    {
     "name": "stdout",
     "output_type": "stream",
     "text": [
      "Epoch 1/100\n",
      "1407/1407 [==============================] - 20s 10ms/step - loss: 1.8423 - accuracy: 0.3389 - val_loss: 1.6725 - val_accuracy: 0.4070\n",
      "Epoch 2/100\n",
      "1407/1407 [==============================] - 13s 10ms/step - loss: 1.6655 - accuracy: 0.4065 - val_loss: 1.6454 - val_accuracy: 0.4124\n",
      "Epoch 3/100\n",
      "1407/1407 [==============================] - 14s 10ms/step - loss: 1.5959 - accuracy: 0.4326 - val_loss: 1.5192 - val_accuracy: 0.4542\n",
      "Epoch 4/100\n",
      "1407/1407 [==============================] - 13s 9ms/step - loss: 1.5458 - accuracy: 0.4507 - val_loss: 1.5134 - val_accuracy: 0.4674\n",
      "Epoch 5/100\n",
      "1407/1407 [==============================] - 13s 9ms/step - loss: 1.5018 - accuracy: 0.4668 - val_loss: 1.4521 - val_accuracy: 0.4860\n",
      "Epoch 6/100\n",
      "1407/1407 [==============================] - 13s 9ms/step - loss: 1.4642 - accuracy: 0.4803 - val_loss: 1.4148 - val_accuracy: 0.4954\n",
      "Epoch 7/100\n",
      "1407/1407 [==============================] - 13s 9ms/step - loss: 1.4318 - accuracy: 0.4926 - val_loss: 1.4113 - val_accuracy: 0.4896\n",
      "Epoch 8/100\n",
      "1407/1407 [==============================] - 13s 9ms/step - loss: 1.4036 - accuracy: 0.5023 - val_loss: 1.3658 - val_accuracy: 0.5120\n",
      "Epoch 9/100\n",
      "1407/1407 [==============================] - 13s 9ms/step - loss: 1.3795 - accuracy: 0.5123 - val_loss: 1.3731 - val_accuracy: 0.5146\n",
      "Epoch 10/100\n",
      "1407/1407 [==============================] - 13s 9ms/step - loss: 1.3583 - accuracy: 0.5166 - val_loss: 1.3449 - val_accuracy: 0.5186\n",
      "Epoch 11/100\n",
      "1407/1407 [==============================] - 13s 9ms/step - loss: 1.3375 - accuracy: 0.5241 - val_loss: 1.3465 - val_accuracy: 0.5268\n",
      "Epoch 12/100\n",
      "1407/1407 [==============================] - 13s 9ms/step - loss: 1.3154 - accuracy: 0.5364 - val_loss: 1.3701 - val_accuracy: 0.5082\n",
      "Epoch 13/100\n",
      "1407/1407 [==============================] - 13s 9ms/step - loss: 1.2948 - accuracy: 0.5401 - val_loss: 1.3586 - val_accuracy: 0.5266\n",
      "Epoch 14/100\n",
      "1407/1407 [==============================] - 13s 9ms/step - loss: 1.2783 - accuracy: 0.5472 - val_loss: 1.3155 - val_accuracy: 0.5388\n",
      "Epoch 15/100\n",
      "1407/1407 [==============================] - 14s 10ms/step - loss: 1.2596 - accuracy: 0.5558 - val_loss: 1.3735 - val_accuracy: 0.5242\n",
      "Epoch 16/100\n",
      "1407/1407 [==============================] - 13s 9ms/step - loss: 1.2488 - accuracy: 0.5564 - val_loss: 1.3394 - val_accuracy: 0.5306\n",
      "Epoch 17/100\n",
      "1407/1407 [==============================] - 13s 9ms/step - loss: 1.2293 - accuracy: 0.5635 - val_loss: 1.3090 - val_accuracy: 0.5450\n",
      "Epoch 18/100\n",
      "1407/1407 [==============================] - 13s 9ms/step - loss: 1.2114 - accuracy: 0.5717 - val_loss: 1.3321 - val_accuracy: 0.5368\n",
      "Epoch 19/100\n",
      "1407/1407 [==============================] - 15s 10ms/step - loss: 1.1986 - accuracy: 0.5764 - val_loss: 1.3258 - val_accuracy: 0.5336\n",
      "Epoch 20/100\n",
      "1407/1407 [==============================] - 15s 10ms/step - loss: 1.1890 - accuracy: 0.5802 - val_loss: 1.3662 - val_accuracy: 0.5204\n",
      "Epoch 21/100\n",
      "1407/1407 [==============================] - 15s 10ms/step - loss: 1.1734 - accuracy: 0.5866 - val_loss: 1.3541 - val_accuracy: 0.5358\n",
      "Epoch 22/100\n",
      "1407/1407 [==============================] - 15s 10ms/step - loss: 1.1541 - accuracy: 0.5920 - val_loss: 1.3396 - val_accuracy: 0.5350\n",
      "Epoch 23/100\n",
      "1407/1407 [==============================] - 15s 10ms/step - loss: 1.1481 - accuracy: 0.5936 - val_loss: 1.3179 - val_accuracy: 0.5466\n",
      "Epoch 24/100\n",
      "1407/1407 [==============================] - 14s 10ms/step - loss: 1.1320 - accuracy: 0.6015 - val_loss: 1.2979 - val_accuracy: 0.5448\n",
      "Epoch 25/100\n",
      "1407/1407 [==============================] - 14s 10ms/step - loss: 1.1221 - accuracy: 0.6043 - val_loss: 1.3358 - val_accuracy: 0.5342\n",
      "Epoch 26/100\n",
      "1407/1407 [==============================] - 14s 10ms/step - loss: 1.1071 - accuracy: 0.6101 - val_loss: 1.3434 - val_accuracy: 0.5400\n",
      "Epoch 27/100\n",
      "1407/1407 [==============================] - 14s 10ms/step - loss: 1.0943 - accuracy: 0.6147 - val_loss: 1.3321 - val_accuracy: 0.5468\n",
      "Epoch 28/100\n",
      "1407/1407 [==============================] - 14s 10ms/step - loss: 1.0901 - accuracy: 0.6157 - val_loss: 1.3373 - val_accuracy: 0.5384\n",
      "Epoch 29/100\n",
      "1407/1407 [==============================] - 14s 10ms/step - loss: 1.0784 - accuracy: 0.6194 - val_loss: 1.3081 - val_accuracy: 0.5410\n",
      "Epoch 30/100\n",
      "1407/1407 [==============================] - 14s 10ms/step - loss: 1.0671 - accuracy: 0.6222 - val_loss: 1.3223 - val_accuracy: 0.5510\n",
      "Epoch 31/100\n",
      "1407/1407 [==============================] - 14s 10ms/step - loss: 1.0538 - accuracy: 0.6262 - val_loss: 1.3382 - val_accuracy: 0.5434\n",
      "Epoch 32/100\n",
      "1407/1407 [==============================] - 14s 10ms/step - loss: 1.0427 - accuracy: 0.6345 - val_loss: 1.3480 - val_accuracy: 0.5488\n",
      "Epoch 33/100\n",
      "1407/1407 [==============================] - 14s 10ms/step - loss: 1.0346 - accuracy: 0.6330 - val_loss: 1.3330 - val_accuracy: 0.5492\n",
      "Epoch 34/100\n",
      "1407/1407 [==============================] - 14s 10ms/step - loss: 1.0244 - accuracy: 0.6406 - val_loss: 1.3357 - val_accuracy: 0.5474\n"
     ]
    },
    {
     "data": {
      "text/plain": [
       "<keras.callbacks.History at 0x21ecc72de10>"
      ]
     },
     "execution_count": 105,
     "metadata": {},
     "output_type": "execute_result"
    }
   ],
   "source": [
    "model.fit(X_train, y_train, epochs=100, validation_data=(X_valid, y_valid), callbacks=callbacks)"
   ]
  },
  {
   "cell_type": "code",
   "execution_count": 106,
   "id": "a67b7852-3fde-4551-9ef6-92af7f2e6949",
   "metadata": {},
   "outputs": [
    {
     "name": "stdout",
     "output_type": "stream",
     "text": [
      "157/157 [==============================] - 1s 2ms/step - loss: 1.2979 - accuracy: 0.5448\n"
     ]
    },
    {
     "data": {
      "text/plain": [
       "[1.2979010343551636, 0.5447999835014343]"
      ]
     },
     "execution_count": 106,
     "metadata": {},
     "output_type": "execute_result"
    }
   ],
   "source": [
    "model = keras.models.load_model(\"my_cifar10_bn_model.h5\")\n",
    "model.evaluate(X_valid, y_valid)"
   ]
  },
  {
   "cell_type": "code",
   "execution_count": 100,
   "id": "10411907-f682-4225-9c39-acf296eea5cd",
   "metadata": {},
   "outputs": [
    {
     "name": "stdout",
     "output_type": "stream",
     "text": [
      "Epoch 1/100\n",
      "1407/1407 [==============================] - 20s 10ms/step - loss: 1.8349 - accuracy: 0.3418 - val_loss: 1.6458 - val_accuracy: 0.4182\n",
      "Epoch 2/100\n",
      "1407/1407 [==============================] - 13s 9ms/step - loss: 1.6642 - accuracy: 0.4080 - val_loss: 1.6013 - val_accuracy: 0.4262\n",
      "Epoch 3/100\n",
      "1407/1407 [==============================] - 13s 9ms/step - loss: 1.5978 - accuracy: 0.4315 - val_loss: 1.5121 - val_accuracy: 0.4576\n",
      "Epoch 4/100\n",
      "1407/1407 [==============================] - 13s 9ms/step - loss: 1.5477 - accuracy: 0.4480 - val_loss: 1.5339 - val_accuracy: 0.4554\n",
      "Epoch 5/100\n",
      "1407/1407 [==============================] - 13s 9ms/step - loss: 1.5040 - accuracy: 0.4645 - val_loss: 1.4616 - val_accuracy: 0.4822\n",
      "Epoch 6/100\n",
      "1407/1407 [==============================] - 13s 9ms/step - loss: 1.4673 - accuracy: 0.4791 - val_loss: 1.4287 - val_accuracy: 0.4904\n",
      "Epoch 7/100\n",
      "1407/1407 [==============================] - 13s 9ms/step - loss: 1.4316 - accuracy: 0.4891 - val_loss: 1.4272 - val_accuracy: 0.4916\n",
      "Epoch 8/100\n",
      "1407/1407 [==============================] - 13s 9ms/step - loss: 1.4050 - accuracy: 0.5012 - val_loss: 1.3685 - val_accuracy: 0.5104\n",
      "Epoch 9/100\n",
      "1407/1407 [==============================] - 13s 9ms/step - loss: 1.3804 - accuracy: 0.5125 - val_loss: 1.3590 - val_accuracy: 0.5158\n",
      "Epoch 10/100\n",
      "1407/1407 [==============================] - 13s 9ms/step - loss: 1.3574 - accuracy: 0.5178 - val_loss: 1.3539 - val_accuracy: 0.5096\n",
      "Epoch 11/100\n",
      "1407/1407 [==============================] - 12s 9ms/step - loss: 1.3384 - accuracy: 0.5238 - val_loss: 1.3555 - val_accuracy: 0.5178\n",
      "Epoch 12/100\n",
      "1407/1407 [==============================] - 12s 9ms/step - loss: 1.3168 - accuracy: 0.5350 - val_loss: 1.3877 - val_accuracy: 0.5082\n",
      "Epoch 13/100\n",
      "1407/1407 [==============================] - 12s 9ms/step - loss: 1.2934 - accuracy: 0.5413 - val_loss: 1.3859 - val_accuracy: 0.5074\n",
      "Epoch 14/100\n",
      "1407/1407 [==============================] - 13s 9ms/step - loss: 1.2772 - accuracy: 0.5457 - val_loss: 1.3500 - val_accuracy: 0.5274\n",
      "Epoch 15/100\n",
      "1407/1407 [==============================] - 12s 9ms/step - loss: 1.2606 - accuracy: 0.5570 - val_loss: 1.3570 - val_accuracy: 0.5266\n",
      "Epoch 16/100\n",
      "1407/1407 [==============================] - 13s 9ms/step - loss: 1.2480 - accuracy: 0.5568 - val_loss: 1.3660 - val_accuracy: 0.5276\n",
      "Epoch 17/100\n",
      "1407/1407 [==============================] - 13s 9ms/step - loss: 1.2288 - accuracy: 0.5652 - val_loss: 1.3200 - val_accuracy: 0.5366\n",
      "Epoch 18/100\n",
      "1407/1407 [==============================] - 12s 9ms/step - loss: 1.2120 - accuracy: 0.5725 - val_loss: 1.3399 - val_accuracy: 0.5300\n",
      "Epoch 19/100\n",
      "1407/1407 [==============================] - 12s 9ms/step - loss: 1.1975 - accuracy: 0.5769 - val_loss: 1.3344 - val_accuracy: 0.5304\n",
      "Epoch 20/100\n",
      "1407/1407 [==============================] - 12s 9ms/step - loss: 1.1857 - accuracy: 0.5840 - val_loss: 1.3588 - val_accuracy: 0.5312\n",
      "Epoch 21/100\n",
      "1407/1407 [==============================] - 13s 9ms/step - loss: 1.1733 - accuracy: 0.5882 - val_loss: 1.3893 - val_accuracy: 0.5170\n",
      "Epoch 22/100\n",
      "1407/1407 [==============================] - 13s 9ms/step - loss: 1.1623 - accuracy: 0.5889 - val_loss: 1.3200 - val_accuracy: 0.5388\n",
      "Epoch 23/100\n",
      "1407/1407 [==============================] - 12s 9ms/step - loss: 1.1486 - accuracy: 0.5960 - val_loss: 1.3092 - val_accuracy: 0.5460\n",
      "Epoch 24/100\n",
      "1407/1407 [==============================] - 12s 9ms/step - loss: 1.1351 - accuracy: 0.5996 - val_loss: 1.3380 - val_accuracy: 0.5388\n",
      "Epoch 25/100\n",
      "1407/1407 [==============================] - 12s 9ms/step - loss: 1.1285 - accuracy: 0.6040 - val_loss: 1.3332 - val_accuracy: 0.5344\n",
      "Epoch 26/100\n",
      "1407/1407 [==============================] - 12s 9ms/step - loss: 1.1080 - accuracy: 0.6089 - val_loss: 1.3322 - val_accuracy: 0.5396\n",
      "Epoch 27/100\n",
      "1407/1407 [==============================] - 13s 9ms/step - loss: 1.0937 - accuracy: 0.6130 - val_loss: 1.3404 - val_accuracy: 0.5434\n",
      "Epoch 28/100\n",
      "1407/1407 [==============================] - 13s 9ms/step - loss: 1.0886 - accuracy: 0.6177 - val_loss: 1.3548 - val_accuracy: 0.5348\n",
      "Epoch 29/100\n",
      "1407/1407 [==============================] - 13s 9ms/step - loss: 1.0805 - accuracy: 0.6176 - val_loss: 1.3247 - val_accuracy: 0.5496\n",
      "Epoch 30/100\n",
      "1407/1407 [==============================] - 13s 9ms/step - loss: 1.0692 - accuracy: 0.6221 - val_loss: 1.3559 - val_accuracy: 0.5350\n",
      "Epoch 31/100\n",
      "1407/1407 [==============================] - 13s 9ms/step - loss: 1.0565 - accuracy: 0.6283 - val_loss: 1.3709 - val_accuracy: 0.5398\n",
      "Epoch 32/100\n",
      "1407/1407 [==============================] - 14s 10ms/step - loss: 1.0457 - accuracy: 0.6317 - val_loss: 1.3731 - val_accuracy: 0.5414\n",
      "Epoch 33/100\n",
      "1407/1407 [==============================] - 13s 9ms/step - loss: 1.0342 - accuracy: 0.6350 - val_loss: 1.3281 - val_accuracy: 0.5548\n",
      "Epoch 34/100\n",
      "1407/1407 [==============================] - 12s 9ms/step - loss: 1.0238 - accuracy: 0.6390 - val_loss: 1.3529 - val_accuracy: 0.5430\n",
      "Epoch 35/100\n",
      "1407/1407 [==============================] - 12s 9ms/step - loss: 1.0173 - accuracy: 0.6428 - val_loss: 1.3509 - val_accuracy: 0.5370\n",
      "Epoch 36/100\n",
      "1407/1407 [==============================] - 12s 9ms/step - loss: 1.0082 - accuracy: 0.6459 - val_loss: 1.3467 - val_accuracy: 0.5394\n",
      "Epoch 37/100\n",
      "1407/1407 [==============================] - 12s 9ms/step - loss: 0.9965 - accuracy: 0.6479 - val_loss: 1.3727 - val_accuracy: 0.5340\n",
      "Epoch 38/100\n",
      "1407/1407 [==============================] - 13s 9ms/step - loss: 0.9920 - accuracy: 0.6505 - val_loss: 1.3743 - val_accuracy: 0.5498\n",
      "Epoch 39/100\n",
      "1407/1407 [==============================] - 13s 9ms/step - loss: 0.9791 - accuracy: 0.6547 - val_loss: 1.3739 - val_accuracy: 0.5404\n",
      "Epoch 40/100\n",
      "1407/1407 [==============================] - 13s 9ms/step - loss: 0.9647 - accuracy: 0.6599 - val_loss: 1.3922 - val_accuracy: 0.5398\n",
      "Epoch 41/100\n",
      "1407/1407 [==============================] - 13s 9ms/step - loss: 0.9619 - accuracy: 0.6632 - val_loss: 1.3646 - val_accuracy: 0.5482\n",
      "Epoch 42/100\n",
      "1407/1407 [==============================] - 13s 9ms/step - loss: 0.9489 - accuracy: 0.6648 - val_loss: 1.3739 - val_accuracy: 0.5472\n",
      "Epoch 43/100\n",
      "1407/1407 [==============================] - 13s 9ms/step - loss: 0.9493 - accuracy: 0.6643 - val_loss: 1.3887 - val_accuracy: 0.5404\n",
      "157/157 [==============================] - 1s 2ms/step - loss: 1.3092 - accuracy: 0.5460\n"
     ]
    },
    {
     "data": {
      "text/plain": [
       "[1.309217095375061, 0.5460000038146973]"
      ]
     },
     "execution_count": 100,
     "metadata": {},
     "output_type": "execute_result"
    }
   ],
   "source": [
    "keras.backend.clear_session()\n",
    "tensorflow.random.set_seed(42)\n",
    "numpy.random.seed(42)\n",
    "\n",
    "model = keras.models.Sequential()\n",
    "model.add(keras.layers.Flatten(input_shape=[32, 32, 3]))\n",
    "model.add(keras.layers.BatchNormalization())\n",
    "for _ in range(20):\n",
    "    model.add(keras.layers.Dense(100, kernel_initializer=\"he_normal\"))\n",
    "    model.add(keras.layers.BatchNormalization())\n",
    "    model.add(keras.layers.Activation(\"elu\"))\n",
    "model.add(keras.layers.Dense(10, activation=\"softmax\"))\n",
    "\n",
    "optimizer = keras.optimizers.Nadam(learning_rate=5e-4)\n",
    "model.compile(loss=\"sparse_categorical_crossentropy\",\n",
    "              optimizer=optimizer,\n",
    "              metrics=[\"accuracy\"])\n",
    "\n",
    "early_stopping_cb = keras.callbacks.EarlyStopping(patience=20)\n",
    "model_checkpoint_cb = keras.callbacks.ModelCheckpoint(\"my_cifar10_bn_model.h5\", save_best_only=True)\n",
    "run_index = 1 # increment every time you train the model\n",
    "run_logdir = os.path.join(os.curdir, \"my_cifar10_logs\", \"run_bn_{:03d}\".format(run_index))\n",
    "tensorboard_cb = keras.callbacks.TensorBoard(run_logdir)\n",
    "callbacks = [early_stopping_cb, model_checkpoint_cb, tensorboard_cb]\n",
    "\n",
    "model.fit(X_train, y_train, epochs=100,\n",
    "          validation_data=(X_valid, y_valid),\n",
    "          callbacks=callbacks)\n",
    "\n",
    "model = keras.models.load_model(\"my_cifar10_bn_model.h5\")\n",
    "model.evaluate(X_valid, y_valid)"
   ]
  },
  {
   "cell_type": "code",
   "execution_count": 107,
   "id": "3716370d-dfd1-48b7-a035-ccb8148d7703",
   "metadata": {},
   "outputs": [
    {
     "name": "stdout",
     "output_type": "stream",
     "text": [
      "Epoch 1/100\n",
      "1407/1407 [==============================] - 12s 7ms/step - loss: 4.6424 - accuracy: 0.1775 - val_loss: 2.3415 - val_accuracy: 0.1646\n",
      "Epoch 2/100\n",
      "1407/1407 [==============================] - 9s 6ms/step - loss: 2.0300 - accuracy: 0.2504 - val_loss: 2.2447 - val_accuracy: 0.2014\n",
      "Epoch 3/100\n",
      "1407/1407 [==============================] - 9s 6ms/step - loss: 1.9482 - accuracy: 0.2868 - val_loss: 2.7435 - val_accuracy: 0.1448\n",
      "Epoch 4/100\n",
      "1407/1407 [==============================] - 9s 7ms/step - loss: 1.9419 - accuracy: 0.2778 - val_loss: 2.1393 - val_accuracy: 0.2154\n",
      "Epoch 5/100\n",
      "1407/1407 [==============================] - 9s 7ms/step - loss: 1.8698 - accuracy: 0.3104 - val_loss: 2.0151 - val_accuracy: 0.2850\n",
      "Epoch 6/100\n",
      "1407/1407 [==============================] - 9s 7ms/step - loss: 1.8363 - accuracy: 0.3276 - val_loss: 1.9668 - val_accuracy: 0.3038\n",
      "Epoch 7/100\n",
      "1407/1407 [==============================] - 9s 6ms/step - loss: 1.8065 - accuracy: 0.3388 - val_loss: 1.7925 - val_accuracy: 0.3344\n",
      "Epoch 8/100\n",
      "1407/1407 [==============================] - 9s 6ms/step - loss: 1.7880 - accuracy: 0.3493 - val_loss: 1.7845 - val_accuracy: 0.3352\n",
      "Epoch 9/100\n",
      "1407/1407 [==============================] - 8s 6ms/step - loss: 1.7671 - accuracy: 0.3561 - val_loss: 1.7994 - val_accuracy: 0.3380\n",
      "Epoch 10/100\n",
      "1407/1407 [==============================] - 8s 6ms/step - loss: 1.7519 - accuracy: 0.3611 - val_loss: 1.7750 - val_accuracy: 0.3410\n",
      "Epoch 11/100\n",
      "1407/1407 [==============================] - 8s 6ms/step - loss: 1.7326 - accuracy: 0.3699 - val_loss: 1.8569 - val_accuracy: 0.3300\n",
      "Epoch 12/100\n",
      "1407/1407 [==============================] - 8s 6ms/step - loss: 1.7245 - accuracy: 0.3729 - val_loss: 1.7632 - val_accuracy: 0.3520\n",
      "Epoch 13/100\n",
      "1407/1407 [==============================] - 8s 6ms/step - loss: 1.7067 - accuracy: 0.3800 - val_loss: 1.7443 - val_accuracy: 0.3670\n",
      "Epoch 14/100\n",
      "1407/1407 [==============================] - 8s 6ms/step - loss: 1.6950 - accuracy: 0.3834 - val_loss: 1.7174 - val_accuracy: 0.3698\n",
      "Epoch 15/100\n",
      "1407/1407 [==============================] - 8s 6ms/step - loss: 1.6802 - accuracy: 0.3901 - val_loss: 1.7182 - val_accuracy: 0.3672\n",
      "Epoch 16/100\n",
      "1407/1407 [==============================] - 8s 6ms/step - loss: 1.6674 - accuracy: 0.3945 - val_loss: 1.6845 - val_accuracy: 0.3842\n",
      "Epoch 17/100\n",
      "1407/1407 [==============================] - 10s 7ms/step - loss: 1.6596 - accuracy: 0.3978 - val_loss: 1.6885 - val_accuracy: 0.3834\n",
      "Epoch 18/100\n",
      "1407/1407 [==============================] - 9s 6ms/step - loss: 1.6516 - accuracy: 0.4010 - val_loss: 1.7322 - val_accuracy: 0.3762\n",
      "Epoch 19/100\n",
      "1407/1407 [==============================] - 9s 6ms/step - loss: 1.8389 - accuracy: 0.3440 - val_loss: 1.8084 - val_accuracy: 0.3292\n",
      "Epoch 20/100\n",
      "1407/1407 [==============================] - 9s 6ms/step - loss: 1.7814 - accuracy: 0.3443 - val_loss: 1.7835 - val_accuracy: 0.3362\n",
      "Epoch 21/100\n",
      "1407/1407 [==============================] - 9s 6ms/step - loss: 1.7508 - accuracy: 0.3572 - val_loss: 1.7519 - val_accuracy: 0.3634\n",
      "Epoch 22/100\n",
      "1407/1407 [==============================] - 9s 7ms/step - loss: 1.7261 - accuracy: 0.3684 - val_loss: 1.7288 - val_accuracy: 0.3728\n",
      "Epoch 23/100\n",
      "1407/1407 [==============================] - 8s 6ms/step - loss: 1.7060 - accuracy: 0.3801 - val_loss: 1.7169 - val_accuracy: 0.3770\n",
      "Epoch 24/100\n",
      "1407/1407 [==============================] - 9s 6ms/step - loss: 1.6826 - accuracy: 0.3884 - val_loss: 1.6811 - val_accuracy: 0.3884\n",
      "Epoch 25/100\n",
      "1407/1407 [==============================] - 9s 7ms/step - loss: 1.6649 - accuracy: 0.3964 - val_loss: 1.6843 - val_accuracy: 0.3916\n",
      "Epoch 26/100\n",
      "1407/1407 [==============================] - 9s 6ms/step - loss: 1.6443 - accuracy: 0.4040 - val_loss: 1.6973 - val_accuracy: 0.3700\n",
      "Epoch 27/100\n",
      "1407/1407 [==============================] - 9s 6ms/step - loss: 1.6411 - accuracy: 0.4052 - val_loss: 1.6758 - val_accuracy: 0.3998\n",
      "Epoch 28/100\n",
      "1407/1407 [==============================] - 9s 6ms/step - loss: 1.6318 - accuracy: 0.4091 - val_loss: 1.6859 - val_accuracy: 0.4000\n",
      "Epoch 29/100\n",
      "1407/1407 [==============================] - 9s 6ms/step - loss: 1.6237 - accuracy: 0.4134 - val_loss: 1.6255 - val_accuracy: 0.4094\n",
      "Epoch 30/100\n",
      "1407/1407 [==============================] - 8s 6ms/step - loss: 1.6134 - accuracy: 0.4150 - val_loss: 1.6966 - val_accuracy: 0.3920\n",
      "Epoch 31/100\n",
      "1407/1407 [==============================] - 8s 6ms/step - loss: 4.6261 - accuracy: 0.3495 - val_loss: 1.8298 - val_accuracy: 0.3194\n",
      "Epoch 32/100\n",
      "1407/1407 [==============================] - 8s 6ms/step - loss: 1.7571 - accuracy: 0.3513 - val_loss: 1.7293 - val_accuracy: 0.3686\n",
      "Epoch 33/100\n",
      "1407/1407 [==============================] - 8s 6ms/step - loss: 1.7057 - accuracy: 0.3753 - val_loss: 1.7688 - val_accuracy: 0.3492\n",
      "Epoch 34/100\n",
      "1407/1407 [==============================] - 8s 6ms/step - loss: 1.6811 - accuracy: 0.3857 - val_loss: 1.7153 - val_accuracy: 0.3736\n",
      "Epoch 35/100\n",
      "1407/1407 [==============================] - 8s 6ms/step - loss: 1.6619 - accuracy: 0.3917 - val_loss: 1.7503 - val_accuracy: 0.3662\n",
      "Epoch 36/100\n",
      "1407/1407 [==============================] - 8s 6ms/step - loss: 1.6478 - accuracy: 0.3995 - val_loss: 1.6727 - val_accuracy: 0.3964\n",
      "Epoch 37/100\n",
      "1407/1407 [==============================] - 9s 6ms/step - loss: 1.6346 - accuracy: 0.4057 - val_loss: 1.6506 - val_accuracy: 0.4040\n",
      "Epoch 38/100\n",
      "1407/1407 [==============================] - 9s 6ms/step - loss: 1.6248 - accuracy: 0.4074 - val_loss: 1.6830 - val_accuracy: 0.3776\n",
      "Epoch 39/100\n",
      "1407/1407 [==============================] - 8s 6ms/step - loss: 1.6156 - accuracy: 0.4128 - val_loss: 1.6506 - val_accuracy: 0.3994\n",
      "Epoch 40/100\n",
      "1407/1407 [==============================] - 9s 6ms/step - loss: 1.6056 - accuracy: 0.4158 - val_loss: 1.6905 - val_accuracy: 0.3894\n",
      "Epoch 41/100\n",
      "1407/1407 [==============================] - 9s 6ms/step - loss: 1.5945 - accuracy: 0.4212 - val_loss: 1.6587 - val_accuracy: 0.4036\n",
      "Epoch 42/100\n",
      "1407/1407 [==============================] - 9s 6ms/step - loss: 1.5875 - accuracy: 0.4254 - val_loss: 1.6411 - val_accuracy: 0.4210\n",
      "Epoch 43/100\n",
      "1407/1407 [==============================] - 9s 6ms/step - loss: 1.5799 - accuracy: 0.4282 - val_loss: 1.6513 - val_accuracy: 0.4146\n",
      "Epoch 44/100\n",
      "1407/1407 [==============================] - 8s 6ms/step - loss: 1.5706 - accuracy: 0.4310 - val_loss: 1.6507 - val_accuracy: 0.3952\n",
      "Epoch 45/100\n",
      "1407/1407 [==============================] - 8s 6ms/step - loss: 1.5604 - accuracy: 0.4355 - val_loss: 1.6380 - val_accuracy: 0.4076\n",
      "Epoch 46/100\n",
      "1407/1407 [==============================] - 9s 6ms/step - loss: 1.5543 - accuracy: 0.4404 - val_loss: 1.6638 - val_accuracy: 0.4006\n",
      "Epoch 47/100\n",
      "1407/1407 [==============================] - 8s 6ms/step - loss: 1.5462 - accuracy: 0.4408 - val_loss: 1.6644 - val_accuracy: 0.4004\n",
      "Epoch 48/100\n",
      "1407/1407 [==============================] - 8s 6ms/step - loss: 1.5377 - accuracy: 0.4449 - val_loss: 1.6202 - val_accuracy: 0.4254\n",
      "Epoch 49/100\n",
      "1407/1407 [==============================] - 8s 6ms/step - loss: 1.5267 - accuracy: 0.4506 - val_loss: 1.5885 - val_accuracy: 0.4278\n",
      "Epoch 50/100\n",
      "1407/1407 [==============================] - 8s 6ms/step - loss: 1.5212 - accuracy: 0.4512 - val_loss: 1.5908 - val_accuracy: 0.4326\n",
      "Epoch 51/100\n",
      "1407/1407 [==============================] - 9s 7ms/step - loss: 1.5110 - accuracy: 0.4553 - val_loss: 1.5781 - val_accuracy: 0.4300\n",
      "Epoch 52/100\n",
      "1407/1407 [==============================] - 9s 7ms/step - loss: 1.6632 - accuracy: 0.4602 - val_loss: 2.1036 - val_accuracy: 0.2578\n",
      "Epoch 53/100\n",
      "1407/1407 [==============================] - 9s 6ms/step - loss: 1.6155 - accuracy: 0.4164 - val_loss: 1.6006 - val_accuracy: 0.4260\n",
      "Epoch 54/100\n",
      "1407/1407 [==============================] - 9s 6ms/step - loss: 1.5532 - accuracy: 0.4417 - val_loss: 1.6002 - val_accuracy: 0.4252\n",
      "Epoch 55/100\n",
      "1407/1407 [==============================] - 8s 6ms/step - loss: 1.5327 - accuracy: 0.4488 - val_loss: 1.5832 - val_accuracy: 0.4402\n",
      "Epoch 56/100\n",
      "1407/1407 [==============================] - 9s 6ms/step - loss: 1.5195 - accuracy: 0.4553 - val_loss: 1.5742 - val_accuracy: 0.4372\n",
      "Epoch 57/100\n",
      "1407/1407 [==============================] - 9s 6ms/step - loss: 1.4993 - accuracy: 0.4612 - val_loss: 1.5797 - val_accuracy: 0.4360\n",
      "Epoch 58/100\n",
      "1407/1407 [==============================] - 9s 6ms/step - loss: 1.4885 - accuracy: 0.4635 - val_loss: 1.6013 - val_accuracy: 0.4296\n",
      "Epoch 59/100\n",
      "1407/1407 [==============================] - 8s 6ms/step - loss: 1.4832 - accuracy: 0.4654 - val_loss: 1.6716 - val_accuracy: 0.4186\n",
      "Epoch 60/100\n",
      "1407/1407 [==============================] - 8s 6ms/step - loss: 1.4722 - accuracy: 0.4694 - val_loss: 1.5912 - val_accuracy: 0.4378\n",
      "Epoch 61/100\n",
      "1407/1407 [==============================] - 9s 6ms/step - loss: 1.4683 - accuracy: 0.4692 - val_loss: 1.5761 - val_accuracy: 0.4296\n",
      "Epoch 62/100\n",
      "1407/1407 [==============================] - 9s 7ms/step - loss: 2.6404 - accuracy: 0.3589 - val_loss: 1.7095 - val_accuracy: 0.3732\n",
      "Epoch 63/100\n",
      "1407/1407 [==============================] - 9s 6ms/step - loss: 3.4810 - accuracy: 0.3232 - val_loss: 1.9236 - val_accuracy: 0.2960\n",
      "Epoch 64/100\n",
      "1407/1407 [==============================] - 8s 6ms/step - loss: 1.8205 - accuracy: 0.3294 - val_loss: 1.8002 - val_accuracy: 0.3380\n",
      "Epoch 65/100\n",
      "1407/1407 [==============================] - 8s 6ms/step - loss: 1.7660 - accuracy: 0.3491 - val_loss: 1.7631 - val_accuracy: 0.3486\n",
      "Epoch 66/100\n",
      "1407/1407 [==============================] - 8s 6ms/step - loss: 1.7416 - accuracy: 0.3585 - val_loss: 1.7504 - val_accuracy: 0.3560\n",
      "Epoch 67/100\n",
      "1407/1407 [==============================] - 8s 6ms/step - loss: 1.7257 - accuracy: 0.3630 - val_loss: 1.7478 - val_accuracy: 0.3656\n",
      "Epoch 68/100\n",
      "1407/1407 [==============================] - 8s 6ms/step - loss: 1.7089 - accuracy: 0.3722 - val_loss: 1.7399 - val_accuracy: 0.3532\n",
      "Epoch 69/100\n",
      "1407/1407 [==============================] - 8s 6ms/step - loss: 1.6934 - accuracy: 0.3800 - val_loss: 1.7124 - val_accuracy: 0.3694\n",
      "Epoch 70/100\n",
      "1407/1407 [==============================] - 8s 6ms/step - loss: 1.6731 - accuracy: 0.3892 - val_loss: 1.7654 - val_accuracy: 0.3666\n",
      "Epoch 71/100\n",
      "1407/1407 [==============================] - 8s 6ms/step - loss: 1.6510 - accuracy: 0.3962 - val_loss: 1.6965 - val_accuracy: 0.3922\n",
      "Epoch 72/100\n",
      "1407/1407 [==============================] - 8s 6ms/step - loss: 1.6196 - accuracy: 0.4105 - val_loss: 1.6365 - val_accuracy: 0.4044\n",
      "Epoch 73/100\n",
      "1407/1407 [==============================] - 8s 6ms/step - loss: 1.5850 - accuracy: 0.4226 - val_loss: 1.6647 - val_accuracy: 0.3966\n",
      "Epoch 74/100\n",
      "1407/1407 [==============================] - 8s 6ms/step - loss: 1.5626 - accuracy: 0.4340 - val_loss: 1.6276 - val_accuracy: 0.4078\n",
      "Epoch 75/100\n",
      "1407/1407 [==============================] - 8s 6ms/step - loss: 1.5467 - accuracy: 0.4398 - val_loss: 1.5705 - val_accuracy: 0.4292\n",
      "Epoch 76/100\n",
      "1407/1407 [==============================] - 8s 6ms/step - loss: 1.5292 - accuracy: 0.4466 - val_loss: 1.5991 - val_accuracy: 0.4126\n",
      "Epoch 77/100\n",
      "1407/1407 [==============================] - 8s 6ms/step - loss: 1.5186 - accuracy: 0.4493 - val_loss: 1.5764 - val_accuracy: 0.4356\n",
      "Epoch 78/100\n",
      "1407/1407 [==============================] - 8s 6ms/step - loss: 1.5074 - accuracy: 0.4567 - val_loss: 1.5694 - val_accuracy: 0.4294\n",
      "Epoch 79/100\n",
      "1407/1407 [==============================] - 8s 6ms/step - loss: 1.4999 - accuracy: 0.4566 - val_loss: 1.5756 - val_accuracy: 0.4318\n",
      "Epoch 80/100\n",
      "1407/1407 [==============================] - 8s 6ms/step - loss: 1.4855 - accuracy: 0.4633 - val_loss: 1.5621 - val_accuracy: 0.4438\n",
      "Epoch 81/100\n",
      "1407/1407 [==============================] - 8s 6ms/step - loss: 1.4771 - accuracy: 0.4673 - val_loss: 1.5655 - val_accuracy: 0.4430\n",
      "Epoch 82/100\n",
      "1407/1407 [==============================] - 8s 6ms/step - loss: 1.4727 - accuracy: 0.4678 - val_loss: 1.5487 - val_accuracy: 0.4468\n",
      "Epoch 83/100\n",
      "1407/1407 [==============================] - 8s 6ms/step - loss: 1.4628 - accuracy: 0.4719 - val_loss: 1.5593 - val_accuracy: 0.4358\n",
      "Epoch 84/100\n",
      "1407/1407 [==============================] - 8s 6ms/step - loss: 1.4527 - accuracy: 0.4768 - val_loss: 1.5480 - val_accuracy: 0.4476\n",
      "Epoch 85/100\n",
      "1407/1407 [==============================] - 9s 7ms/step - loss: 1.4464 - accuracy: 0.4760 - val_loss: 1.5793 - val_accuracy: 0.4432\n",
      "Epoch 86/100\n",
      "1407/1407 [==============================] - 8s 6ms/step - loss: 1.4401 - accuracy: 0.4805 - val_loss: 1.5609 - val_accuracy: 0.4410\n",
      "Epoch 87/100\n",
      "1407/1407 [==============================] - 8s 6ms/step - loss: 1.4326 - accuracy: 0.4845 - val_loss: 1.5280 - val_accuracy: 0.4546\n",
      "Epoch 88/100\n",
      "1407/1407 [==============================] - 8s 6ms/step - loss: 1.4286 - accuracy: 0.4866 - val_loss: 1.5717 - val_accuracy: 0.4452\n",
      "Epoch 89/100\n",
      "1407/1407 [==============================] - 8s 6ms/step - loss: 1.4204 - accuracy: 0.4887 - val_loss: 1.5264 - val_accuracy: 0.4524\n",
      "Epoch 90/100\n",
      "1407/1407 [==============================] - 9s 6ms/step - loss: 1.4185 - accuracy: 0.4896 - val_loss: 1.5168 - val_accuracy: 0.4622\n",
      "Epoch 91/100\n",
      "1407/1407 [==============================] - 9s 6ms/step - loss: 1.4173 - accuracy: 0.4926 - val_loss: 1.5828 - val_accuracy: 0.4380\n",
      "Epoch 92/100\n",
      "1407/1407 [==============================] - 8s 6ms/step - loss: 1.4029 - accuracy: 0.4953 - val_loss: 1.5532 - val_accuracy: 0.4500\n",
      "Epoch 93/100\n",
      "1407/1407 [==============================] - 9s 6ms/step - loss: 1.3986 - accuracy: 0.4997 - val_loss: 1.5175 - val_accuracy: 0.4618\n",
      "Epoch 94/100\n",
      "1407/1407 [==============================] - 9s 6ms/step - loss: 1.3909 - accuracy: 0.5002 - val_loss: 1.6049 - val_accuracy: 0.4340\n",
      "Epoch 95/100\n",
      "1407/1407 [==============================] - 9s 7ms/step - loss: 1.3863 - accuracy: 0.5022 - val_loss: 1.5677 - val_accuracy: 0.4462\n",
      "Epoch 96/100\n",
      "1407/1407 [==============================] - 9s 6ms/step - loss: 1.3813 - accuracy: 0.5016 - val_loss: 1.5401 - val_accuracy: 0.4508\n",
      "Epoch 97/100\n",
      "1407/1407 [==============================] - 8s 6ms/step - loss: 1.3782 - accuracy: 0.5064 - val_loss: 1.5254 - val_accuracy: 0.4646\n",
      "Epoch 98/100\n",
      "1407/1407 [==============================] - 9s 6ms/step - loss: 1.3757 - accuracy: 0.5064 - val_loss: 1.5456 - val_accuracy: 0.4536\n",
      "Epoch 99/100\n",
      "1407/1407 [==============================] - 9s 6ms/step - loss: 1.3680 - accuracy: 0.5108 - val_loss: 1.5262 - val_accuracy: 0.4652\n",
      "Epoch 100/100\n",
      "1407/1407 [==============================] - 8s 6ms/step - loss: 1.3621 - accuracy: 0.5092 - val_loss: 1.5501 - val_accuracy: 0.4470\n",
      "157/157 [==============================] - 0s 2ms/step - loss: 1.5168 - accuracy: 0.4622\n"
     ]
    },
    {
     "data": {
      "text/plain": [
       "[1.5168100595474243, 0.46219998598098755]"
      ]
     },
     "execution_count": 107,
     "metadata": {},
     "output_type": "execute_result"
    }
   ],
   "source": [
    "keras.backend.clear_session()\n",
    "tensorflow.random.set_seed(42)\n",
    "numpy.random.seed(42)\n",
    "\n",
    "model = keras.models.Sequential()\n",
    "model.add(keras.layers.Flatten(input_shape=[32, 32, 3]))\n",
    "for _ in range(20):\n",
    "    model.add(keras.layers.Dense(100, activation=\"selu\", kernel_initializer=\"he_normal\"))\n",
    "model.add(keras.layers.Dense(10, activation=\"softmax\"))\n",
    "\n",
    "optimizer = keras.optimizers.Nadam(learning_rate=5e-4)\n",
    "model.compile(loss=\"sparse_categorical_crossentropy\",\n",
    "              optimizer=optimizer,\n",
    "              metrics=[\"accuracy\"])\n",
    "\n",
    "early_stopping_cb = keras.callbacks.EarlyStopping(patience=20)\n",
    "model_checkpoint_cb = keras.callbacks.ModelCheckpoint(\"my_cifar10_selu_model.h5\", save_best_only=True)\n",
    "run_index = 1 \n",
    "run_logdir = os.path.join(os.curdir, \"my_cifar10_logs\", \"run_bn_{:03d}\".format(run_index))\n",
    "tensorboard_cb = keras.callbacks.TensorBoard(run_logdir)\n",
    "callbacks = [early_stopping_cb, model_checkpoint_cb, tensorboard_cb]\n",
    "\n",
    "model.fit(X_train, y_train, epochs=100,\n",
    "          validation_data=(X_valid, y_valid),\n",
    "          callbacks=callbacks)\n",
    "\n",
    "model = keras.models.load_model(\"my_cifar10_selu_model.h5\")\n",
    "model.evaluate(X_valid, y_valid)"
   ]
  },
  {
   "cell_type": "code",
   "execution_count": 110,
   "id": "d298a4ed-3982-4d25-8e5d-1e6dc68f1612",
   "metadata": {},
   "outputs": [
    {
     "name": "stdout",
     "output_type": "stream",
     "text": [
      "Epoch 1/100\n",
      "1407/1407 [==============================] - 11s 6ms/step - loss: 1.8915 - accuracy: 0.3232 - val_loss: 1.7973 - val_accuracy: 0.3564\n",
      "Epoch 2/100\n",
      "1407/1407 [==============================] - 8s 6ms/step - loss: 1.6653 - accuracy: 0.4110 - val_loss: 1.7021 - val_accuracy: 0.3906\n",
      "Epoch 3/100\n",
      "1407/1407 [==============================] - 8s 6ms/step - loss: 1.5691 - accuracy: 0.4466 - val_loss: 1.6382 - val_accuracy: 0.4122\n",
      "Epoch 4/100\n",
      "1407/1407 [==============================] - 8s 6ms/step - loss: 1.4992 - accuracy: 0.4711 - val_loss: 1.5742 - val_accuracy: 0.4492\n",
      "Epoch 5/100\n",
      "1407/1407 [==============================] - 8s 6ms/step - loss: 1.4421 - accuracy: 0.4962 - val_loss: 1.5944 - val_accuracy: 0.4400\n",
      "Epoch 6/100\n",
      "1407/1407 [==============================] - 8s 6ms/step - loss: 1.3940 - accuracy: 0.5132 - val_loss: 1.5156 - val_accuracy: 0.4688\n",
      "Epoch 7/100\n",
      "1407/1407 [==============================] - 8s 6ms/step - loss: 1.3475 - accuracy: 0.5308 - val_loss: 1.5094 - val_accuracy: 0.4818\n",
      "Epoch 8/100\n",
      "1407/1407 [==============================] - 8s 6ms/step - loss: 1.3077 - accuracy: 0.5462 - val_loss: 1.4746 - val_accuracy: 0.4934\n",
      "Epoch 9/100\n",
      "1407/1407 [==============================] - 8s 6ms/step - loss: 1.2702 - accuracy: 0.5616 - val_loss: 1.4378 - val_accuracy: 0.4924\n",
      "Epoch 10/100\n",
      "1407/1407 [==============================] - 8s 6ms/step - loss: 1.2327 - accuracy: 0.5770 - val_loss: 1.4816 - val_accuracy: 0.4990\n",
      "Epoch 11/100\n",
      "1407/1407 [==============================] - 8s 6ms/step - loss: 1.2033 - accuracy: 0.5846 - val_loss: 1.4929 - val_accuracy: 0.5024\n",
      "Epoch 12/100\n",
      "1407/1407 [==============================] - 8s 6ms/step - loss: 1.1717 - accuracy: 0.5985 - val_loss: 1.4871 - val_accuracy: 0.5038\n",
      "Epoch 13/100\n",
      "1407/1407 [==============================] - 8s 6ms/step - loss: 1.1374 - accuracy: 0.6082 - val_loss: 1.5118 - val_accuracy: 0.5054\n",
      "Epoch 14/100\n",
      "1407/1407 [==============================] - 8s 6ms/step - loss: 1.1121 - accuracy: 0.6188 - val_loss: 1.4825 - val_accuracy: 0.5178\n",
      "Epoch 15/100\n",
      "1407/1407 [==============================] - 8s 6ms/step - loss: 1.0865 - accuracy: 0.6301 - val_loss: 1.5389 - val_accuracy: 0.4988\n",
      "Epoch 16/100\n",
      "1407/1407 [==============================] - 8s 6ms/step - loss: 1.0662 - accuracy: 0.6363 - val_loss: 1.5426 - val_accuracy: 0.5114\n",
      "Epoch 17/100\n",
      "1407/1407 [==============================] - 8s 6ms/step - loss: 1.0407 - accuracy: 0.6472 - val_loss: 1.5382 - val_accuracy: 0.4984\n",
      "Epoch 18/100\n",
      "1407/1407 [==============================] - 8s 6ms/step - loss: 1.0155 - accuracy: 0.6548 - val_loss: 1.5320 - val_accuracy: 0.5080\n",
      "Epoch 19/100\n",
      "1407/1407 [==============================] - 8s 6ms/step - loss: 0.9978 - accuracy: 0.6617 - val_loss: 1.5999 - val_accuracy: 0.5168\n",
      "Epoch 20/100\n",
      "1407/1407 [==============================] - 8s 6ms/step - loss: 0.9702 - accuracy: 0.6719 - val_loss: 1.5594 - val_accuracy: 0.5094\n",
      "Epoch 21/100\n",
      "1407/1407 [==============================] - 8s 6ms/step - loss: 0.9597 - accuracy: 0.6745 - val_loss: 1.6033 - val_accuracy: 0.5026\n",
      "Epoch 22/100\n",
      "1407/1407 [==============================] - 8s 6ms/step - loss: 0.9391 - accuracy: 0.6822 - val_loss: 1.5811 - val_accuracy: 0.5086\n",
      "Epoch 23/100\n",
      "1407/1407 [==============================] - 8s 6ms/step - loss: 0.9147 - accuracy: 0.6923 - val_loss: 1.6212 - val_accuracy: 0.5074\n",
      "Epoch 24/100\n",
      "1407/1407 [==============================] - 8s 6ms/step - loss: 0.8974 - accuracy: 0.6977 - val_loss: 1.6636 - val_accuracy: 0.5028\n",
      "Epoch 25/100\n",
      "1407/1407 [==============================] - 8s 6ms/step - loss: 0.8823 - accuracy: 0.7048 - val_loss: 1.6189 - val_accuracy: 0.5010\n",
      "Epoch 26/100\n",
      "1407/1407 [==============================] - 8s 6ms/step - loss: 0.8643 - accuracy: 0.7100 - val_loss: 1.6229 - val_accuracy: 0.4982\n",
      "Epoch 27/100\n",
      "1407/1407 [==============================] - 8s 6ms/step - loss: 0.8529 - accuracy: 0.7135 - val_loss: 1.6502 - val_accuracy: 0.4966\n",
      "Epoch 28/100\n",
      "1407/1407 [==============================] - 8s 6ms/step - loss: 0.8359 - accuracy: 0.7190 - val_loss: 1.6915 - val_accuracy: 0.4936\n",
      "Epoch 29/100\n",
      "1407/1407 [==============================] - 8s 6ms/step - loss: 0.8264 - accuracy: 0.7232 - val_loss: 1.6795 - val_accuracy: 0.5134\n",
      "157/157 [==============================] - 0s 2ms/step - loss: 1.4378 - accuracy: 0.4924\n"
     ]
    },
    {
     "data": {
      "text/plain": [
       "[1.4377516508102417, 0.49239999055862427]"
      ]
     },
     "execution_count": 110,
     "metadata": {},
     "output_type": "execute_result"
    }
   ],
   "source": [
    "keras.backend.clear_session()\n",
    "tensorflow.random.set_seed(42)\n",
    "numpy.random.seed(42)\n",
    "\n",
    "model = keras.models.Sequential()\n",
    "model.add(keras.layers.Flatten(input_shape=[32, 32, 3]))\n",
    "for _ in range(20):\n",
    "    model.add(keras.layers.Dense(100, activation=\"selu\", kernel_initializer=\"lecun_normal\"))\n",
    "model.add(keras.layers.Dense(10, activation=\"softmax\"))\n",
    "\n",
    "optimizer = keras.optimizers.Nadam(learning_rate=5e-4)\n",
    "model.compile(loss=\"sparse_categorical_crossentropy\",\n",
    "              optimizer=optimizer,\n",
    "              metrics=[\"accuracy\"])\n",
    "\n",
    "early_stopping_cb = keras.callbacks.EarlyStopping(patience=20)\n",
    "model_checkpoint_cb = keras.callbacks.ModelCheckpoint(\"my_cifar10_selu_model.h5\", save_best_only=True)\n",
    "run_index = 1 \n",
    "run_logdir = os.path.join(os.curdir, \"my_cifar10_logs\", \"run_selu_{:03d}\".format(run_index))\n",
    "tensorboard_cb = keras.callbacks.TensorBoard(run_logdir)\n",
    "callbacks = [early_stopping_cb, model_checkpoint_cb, tensorboard_cb]\n",
    "\n",
    "X_means = X_train.mean(axis=0)\n",
    "X_stds = X_train.std(axis=0)\n",
    "\n",
    "X_train_scaled = (X_train - X_means) / X_stds\n",
    "X_valid_scaled = (X_valid - X_means) / X_stds\n",
    "X_test_scaled = (X_test - X_means) / X_stds\n",
    "\n",
    "model.fit(X_train_scaled, y_train, epochs=100,\n",
    "          validation_data=(X_valid_scaled, y_valid),\n",
    "          callbacks=callbacks)\n",
    "\n",
    "model = keras.models.load_model(\"my_cifar10_selu_model.h5\")\n",
    "model.evaluate(X_valid_scaled, y_valid)"
   ]
  },
  {
   "cell_type": "code",
   "execution_count": 113,
   "id": "407b0e05-1fc4-4e28-9494-9eb41ee0fc88",
   "metadata": {},
   "outputs": [
    {
     "name": "stdout",
     "output_type": "stream",
     "text": [
      "Epoch 1/100\n",
      "1407/1407 [==============================] - 15s 9ms/step - loss: 2.2015 - accuracy: 0.1881 - val_loss: 3.1968 - val_accuracy: 0.2228\n",
      "Epoch 2/100\n",
      "1407/1407 [==============================] - 11s 8ms/step - loss: 1.9470 - accuracy: 0.2431 - val_loss: 4.1033 - val_accuracy: 0.2844\n",
      "Epoch 3/100\n",
      "1407/1407 [==============================] - 11s 8ms/step - loss: 1.8651 - accuracy: 0.2829 - val_loss: 6.8043 - val_accuracy: 0.3096\n",
      "Epoch 4/100\n",
      "1407/1407 [==============================] - 11s 8ms/step - loss: 1.8106 - accuracy: 0.3147 - val_loss: 5.2376 - val_accuracy: 0.3058\n",
      "Epoch 5/100\n",
      "1407/1407 [==============================] - 12s 8ms/step - loss: 1.7725 - accuracy: 0.3423 - val_loss: 7.3475 - val_accuracy: 0.3298\n",
      "Epoch 6/100\n",
      "1407/1407 [==============================] - 12s 9ms/step - loss: 1.7456 - accuracy: 0.3604 - val_loss: 6.2850 - val_accuracy: 0.3756\n",
      "Epoch 7/100\n",
      "1407/1407 [==============================] - 12s 8ms/step - loss: 1.7223 - accuracy: 0.3723 - val_loss: 8.0904 - val_accuracy: 0.3722\n",
      "Epoch 8/100\n",
      "1407/1407 [==============================] - 11s 8ms/step - loss: 1.7257 - accuracy: 0.3761 - val_loss: 7.3980 - val_accuracy: 0.3530\n",
      "Epoch 9/100\n",
      "1407/1407 [==============================] - 11s 8ms/step - loss: 1.6867 - accuracy: 0.3916 - val_loss: 8.8873 - val_accuracy: 0.3632\n",
      "Epoch 10/100\n",
      "1407/1407 [==============================] - 12s 8ms/step - loss: 1.6669 - accuracy: 0.3958 - val_loss: 7.7411 - val_accuracy: 0.3708\n",
      "Epoch 11/100\n",
      "1407/1407 [==============================] - 11s 8ms/step - loss: 1.6515 - accuracy: 0.4011 - val_loss: 5.6336 - val_accuracy: 0.3954\n",
      "Epoch 12/100\n",
      "1407/1407 [==============================] - 12s 8ms/step - loss: 1.6368 - accuracy: 0.4024 - val_loss: 5.8978 - val_accuracy: 0.3874\n",
      "Epoch 13/100\n",
      "1407/1407 [==============================] - 11s 8ms/step - loss: 1.6185 - accuracy: 0.4078 - val_loss: 4.9574 - val_accuracy: 0.3908\n",
      "Epoch 14/100\n",
      "1407/1407 [==============================] - 12s 8ms/step - loss: 1.6089 - accuracy: 0.4164 - val_loss: 7.6261 - val_accuracy: 0.4032\n",
      "Epoch 15/100\n",
      "1407/1407 [==============================] - 12s 9ms/step - loss: 1.6041 - accuracy: 0.4153 - val_loss: 5.5464 - val_accuracy: 0.3984\n",
      "Epoch 16/100\n",
      "1407/1407 [==============================] - 12s 8ms/step - loss: 1.5853 - accuracy: 0.4286 - val_loss: 5.4138 - val_accuracy: 0.4106\n",
      "Epoch 17/100\n",
      "1407/1407 [==============================] - 11s 8ms/step - loss: 1.5695 - accuracy: 0.4327 - val_loss: 6.4193 - val_accuracy: 0.4136\n",
      "Epoch 18/100\n",
      "1407/1407 [==============================] - 12s 8ms/step - loss: 1.5585 - accuracy: 0.4396 - val_loss: 6.5754 - val_accuracy: 0.4124\n",
      "Epoch 19/100\n",
      "1407/1407 [==============================] - 11s 8ms/step - loss: 1.5534 - accuracy: 0.4418 - val_loss: 7.0022 - val_accuracy: 0.4092\n",
      "Epoch 20/100\n",
      "1407/1407 [==============================] - 11s 8ms/step - loss: 1.5365 - accuracy: 0.4438 - val_loss: 5.7908 - val_accuracy: 0.4030\n",
      "Epoch 21/100\n",
      "1407/1407 [==============================] - 11s 8ms/step - loss: 1.5352 - accuracy: 0.4440 - val_loss: 4.6405 - val_accuracy: 0.4176\n",
      "157/157 [==============================] - 0s 2ms/step - loss: 3.1968 - accuracy: 0.2228\n"
     ]
    },
    {
     "data": {
      "text/plain": [
       "[3.1967594623565674, 0.22280000150203705]"
      ]
     },
     "execution_count": 113,
     "metadata": {},
     "output_type": "execute_result"
    }
   ],
   "source": [
    "keras.backend.clear_session()\n",
    "tensorflow.random.set_seed(42)\n",
    "numpy.random.seed(42)\n",
    "\n",
    "model = keras.models.Sequential()\n",
    "model.add(keras.layers.Flatten(input_shape=[32, 32, 3]))\n",
    "for _ in range(20):\n",
    "    model.add(keras.layers.Dense(100, activation=\"selu\", kernel_initializer=\"lecun_normal\"))\n",
    "    model.add(keras.layers.AlphaDropout(rate=0.1))\n",
    "model.add(keras.layers.Dense(10, activation=\"softmax\"))\n",
    "\n",
    "optimizer = keras.optimizers.Nadam(learning_rate=5e-4)\n",
    "model.compile(loss=\"sparse_categorical_crossentropy\",\n",
    "              optimizer=optimizer,\n",
    "              metrics=[\"accuracy\"])\n",
    "\n",
    "early_stopping_cb = keras.callbacks.EarlyStopping(patience=20)\n",
    "model_checkpoint_cb = keras.callbacks.ModelCheckpoint(\"my_cifar10_alpha_model.h5\", monitor=\"val_accuracy\", save_best_only=True)\n",
    "run_index = 1 \n",
    "run_logdir = os.path.join(os.curdir, \"my_cifar10_logs\", \"run_alpha_{:03d}\".format(run_index))\n",
    "tensorboard_cb = keras.callbacks.TensorBoard(run_logdir)\n",
    "callbacks = [early_stopping_cb, model_checkpoint_cb, tensorboard_cb]\n",
    "\n",
    "X_means = X_train.mean(axis=0)\n",
    "X_stds = X_train.std(axis=0)\n",
    "\n",
    "X_train_scaled = (X_train - X_means) / X_stds\n",
    "X_valid_scaled = (X_valid - X_means) / X_stds\n",
    "X_test_scaled = (X_test - X_means) / X_stds\n",
    "\n",
    "model.fit(X_train_scaled, y_train, epochs=100,\n",
    "          validation_data=(X_valid_scaled, y_valid),\n",
    "          callbacks=callbacks)\n",
    "\n",
    "model = keras.models.load_model(\"my_cifar10_alpha_model.h5\")\n",
    "model.evaluate(X_valid_scaled, y_valid)"
   ]
  },
  {
   "cell_type": "code",
   "execution_count": 115,
   "id": "261787f2-f472-4981-ba0f-be147f065f30",
   "metadata": {},
   "outputs": [
    {
     "name": "stdout",
     "output_type": "stream",
     "text": [
      "157/157 [==============================] - 0s 2ms/step - loss: 1.5099 - accuracy: 0.5012\n"
     ]
    },
    {
     "data": {
      "text/plain": [
       "[1.5099104642868042, 0.5012000203132629]"
      ]
     },
     "execution_count": 115,
     "metadata": {},
     "output_type": "execute_result"
    }
   ],
   "source": [
    "model = keras.models.load_model(\"my_cifar10_alpha_model.h5\")\n",
    "model.evaluate(X_valid_scaled, y_valid)"
   ]
  },
  {
   "cell_type": "code",
   "execution_count": 116,
   "id": "ef505d03-0d97-40f3-beb1-afd5b3b7ae9e",
   "metadata": {},
   "outputs": [
    {
     "name": "stdout",
     "output_type": "stream",
     "text": [
      "Epoch 1/100\n",
      "1407/1407 [==============================] - 11s 6ms/step - loss: 1.8958 - accuracy: 0.3257 - val_loss: 1.7849 - val_accuracy: 0.3826\n",
      "Epoch 2/100\n",
      "1407/1407 [==============================] - 8s 6ms/step - loss: 1.6624 - accuracy: 0.4166 - val_loss: 1.7842 - val_accuracy: 0.3952\n",
      "Epoch 3/100\n",
      "1407/1407 [==============================] - 8s 6ms/step - loss: 1.5707 - accuracy: 0.4497 - val_loss: 1.6358 - val_accuracy: 0.4340\n",
      "Epoch 4/100\n",
      "1407/1407 [==============================] - 8s 6ms/step - loss: 1.5052 - accuracy: 0.4744 - val_loss: 1.6056 - val_accuracy: 0.4574\n",
      "Epoch 5/100\n",
      "1407/1407 [==============================] - 8s 6ms/step - loss: 1.4506 - accuracy: 0.4938 - val_loss: 1.6097 - val_accuracy: 0.4506\n",
      "Epoch 6/100\n",
      "1407/1407 [==============================] - 8s 6ms/step - loss: 1.4029 - accuracy: 0.5122 - val_loss: 1.5294 - val_accuracy: 0.4766\n",
      "Epoch 7/100\n",
      "1407/1407 [==============================] - 9s 6ms/step - loss: 1.3604 - accuracy: 0.5259 - val_loss: 1.5452 - val_accuracy: 0.4736\n",
      "Epoch 8/100\n",
      "1407/1407 [==============================] - 9s 6ms/step - loss: 1.3182 - accuracy: 0.5408 - val_loss: 1.4826 - val_accuracy: 0.4900\n",
      "Epoch 9/100\n",
      "1407/1407 [==============================] - 8s 6ms/step - loss: 1.2833 - accuracy: 0.5539 - val_loss: 1.5205 - val_accuracy: 0.4930\n",
      "Epoch 10/100\n",
      "1407/1407 [==============================] - 9s 6ms/step - loss: 1.2519 - accuracy: 0.5684 - val_loss: 1.5265 - val_accuracy: 0.4988\n",
      "Epoch 11/100\n",
      "1407/1407 [==============================] - 9s 6ms/step - loss: 1.2219 - accuracy: 0.5763 - val_loss: 1.5197 - val_accuracy: 0.5018\n",
      "Epoch 12/100\n",
      "1407/1407 [==============================] - 8s 6ms/step - loss: 1.1876 - accuracy: 0.5922 - val_loss: 1.5324 - val_accuracy: 0.5070\n",
      "Epoch 13/100\n",
      "1407/1407 [==============================] - 8s 6ms/step - loss: 1.1646 - accuracy: 0.5985 - val_loss: 1.5658 - val_accuracy: 0.5110\n",
      "Epoch 14/100\n",
      "1407/1407 [==============================] - 8s 6ms/step - loss: 1.1307 - accuracy: 0.6126 - val_loss: 1.5361 - val_accuracy: 0.5018\n",
      "Epoch 15/100\n",
      "1407/1407 [==============================] - 8s 6ms/step - loss: 1.1053 - accuracy: 0.6214 - val_loss: 1.6042 - val_accuracy: 0.5028\n",
      "Epoch 16/100\n",
      "1407/1407 [==============================] - 9s 6ms/step - loss: 1.0810 - accuracy: 0.6308 - val_loss: 1.6424 - val_accuracy: 0.5070\n",
      "Epoch 17/100\n",
      "1407/1407 [==============================] - 9s 7ms/step - loss: 1.0623 - accuracy: 0.6374 - val_loss: 1.6803 - val_accuracy: 0.5092\n",
      "Epoch 18/100\n",
      "1407/1407 [==============================] - 10s 7ms/step - loss: 1.0315 - accuracy: 0.6469 - val_loss: 1.6329 - val_accuracy: 0.5126\n",
      "Epoch 19/100\n",
      "1407/1407 [==============================] - 9s 7ms/step - loss: 1.0126 - accuracy: 0.6543 - val_loss: 1.7558 - val_accuracy: 0.5052\n",
      "Epoch 20/100\n",
      "1407/1407 [==============================] - 9s 6ms/step - loss: 0.9918 - accuracy: 0.6613 - val_loss: 1.7432 - val_accuracy: 0.5040\n",
      "Epoch 21/100\n",
      "1407/1407 [==============================] - 9s 6ms/step - loss: 0.9713 - accuracy: 0.6714 - val_loss: 1.7169 - val_accuracy: 0.5062\n",
      "Epoch 22/100\n",
      "1407/1407 [==============================] - 9s 6ms/step - loss: 0.9582 - accuracy: 0.6744 - val_loss: 1.7676 - val_accuracy: 0.5076\n",
      "Epoch 23/100\n",
      "1407/1407 [==============================] - 9s 6ms/step - loss: 0.9281 - accuracy: 0.6828 - val_loss: 1.7030 - val_accuracy: 0.5104\n",
      "Epoch 24/100\n",
      "1407/1407 [==============================] - 9s 6ms/step - loss: 0.9160 - accuracy: 0.6891 - val_loss: 1.7479 - val_accuracy: 0.5138\n",
      "Epoch 25/100\n",
      "1407/1407 [==============================] - 9s 6ms/step - loss: 0.9023 - accuracy: 0.6946 - val_loss: 1.7992 - val_accuracy: 0.5006\n",
      "Epoch 26/100\n",
      "1407/1407 [==============================] - 9s 6ms/step - loss: 0.8866 - accuracy: 0.7019 - val_loss: 1.7410 - val_accuracy: 0.5092\n",
      "Epoch 27/100\n",
      "1407/1407 [==============================] - 9s 6ms/step - loss: 0.8639 - accuracy: 0.7086 - val_loss: 1.7936 - val_accuracy: 0.5114\n",
      "Epoch 28/100\n",
      "1407/1407 [==============================] - 9s 6ms/step - loss: 1.3651 - accuracy: 0.6278 - val_loss: 1.6594 - val_accuracy: 0.4900\n",
      "157/157 [==============================] - 0s 2ms/step - loss: 1.7479 - accuracy: 0.5138\n"
     ]
    },
    {
     "data": {
      "text/plain": [
       "[1.7479296922683716, 0.5138000249862671]"
      ]
     },
     "execution_count": 116,
     "metadata": {},
     "output_type": "execute_result"
    }
   ],
   "source": [
    "keras.backend.clear_session()\n",
    "tensorflow.random.set_seed(42)\n",
    "numpy.random.seed(42)\n",
    "\n",
    "model = keras.models.Sequential()\n",
    "model.add(keras.layers.Flatten(input_shape=[32, 32, 3]))\n",
    "for _ in range(20):\n",
    "    model.add(keras.layers.Dense(100, activation=\"selu\", kernel_initializer=\"lecun_normal\"))\n",
    "model.add(keras.layers.AlphaDropout(rate=0.1))\n",
    "model.add(keras.layers.Dense(10, activation=\"softmax\"))\n",
    "\n",
    "optimizer = keras.optimizers.Nadam(learning_rate=5e-4)\n",
    "model.compile(loss=\"sparse_categorical_crossentropy\",\n",
    "              optimizer=optimizer,\n",
    "              metrics=[\"accuracy\"])\n",
    "\n",
    "early_stopping_cb = keras.callbacks.EarlyStopping(patience=20)\n",
    "model_checkpoint_cb = keras.callbacks.ModelCheckpoint(\"my_cifar10_alpha_model.h5\", monitor=\"val_accuracy\", save_best_only=True)\n",
    "run_index = 1 \n",
    "run_logdir = os.path.join(os.curdir, \"my_cifar10_logs\", \"run_alpha_{:03d}\".format(run_index))\n",
    "tensorboard_cb = keras.callbacks.TensorBoard(run_logdir)\n",
    "callbacks = [early_stopping_cb, model_checkpoint_cb, tensorboard_cb]\n",
    "\n",
    "X_means = X_train.mean(axis=0)\n",
    "X_stds = X_train.std(axis=0)\n",
    "\n",
    "X_train_scaled = (X_train - X_means) / X_stds\n",
    "X_valid_scaled = (X_valid - X_means) / X_stds\n",
    "X_test_scaled = (X_test - X_means) / X_stds\n",
    "\n",
    "model.fit(X_train_scaled, y_train, epochs=100,\n",
    "          validation_data=(X_valid_scaled, y_valid),\n",
    "          callbacks=callbacks)\n",
    "\n",
    "model = keras.models.load_model(\"my_cifar10_alpha_model.h5\")\n",
    "model.evaluate(X_valid_scaled, y_valid)"
   ]
  },
  {
   "cell_type": "code",
   "execution_count": 122,
   "id": "6d3c464b-a0d0-4cd3-a960-c91b6ea460aa",
   "metadata": {},
   "outputs": [],
   "source": [
    "class MCAlphaDropout(keras.layers.AlphaDropout):\n",
    "    def call(self, inputs):\n",
    "        return super().call(inputs, training=True)"
   ]
  },
  {
   "cell_type": "code",
   "execution_count": 123,
   "id": "dd3f58dc-6474-4083-90e7-93eda1063ecf",
   "metadata": {},
   "outputs": [],
   "source": [
    "mc_model = keras.models.Sequential([\n",
    "    MCAlphaDropout(layer.rate) if isinstance(layer, keras.layers.AlphaDropout) else layer for layer in model.layers\n",
    "])"
   ]
  },
  {
   "cell_type": "code",
   "execution_count": 128,
   "id": "f418d0f6-d522-4a92-997f-0a700b608526",
   "metadata": {},
   "outputs": [],
   "source": [
    "def mc_dropout_predict_probas(mc_model, X, n_samples=10):\n",
    "    Y_probas = [mc_model.predict(X) for sample in range(n_samples)]\n",
    "    return numpy.mean(Y_probas, axis=0)\n",
    "\n",
    "def mc_dropout_predict_classes(mc_model, X, n_samples=10):\n",
    "    Y_probas = mc_dropout_predict_probas(mc_model, X, n_samples)\n",
    "    return numpy.argmax(Y_probas, axis=1)"
   ]
  },
  {
   "cell_type": "code",
   "execution_count": 129,
   "id": "919505c4-acc8-49a2-a135-1fa5f673ad48",
   "metadata": {},
   "outputs": [
    {
     "name": "stdout",
     "output_type": "stream",
     "text": [
      "157/157 [==============================] - 0s 1ms/step\n",
      "157/157 [==============================] - 0s 1ms/step\n",
      "157/157 [==============================] - 0s 2ms/step\n",
      "157/157 [==============================] - 0s 1ms/step\n",
      "157/157 [==============================] - 0s 1ms/step\n",
      "157/157 [==============================] - 0s 1ms/step\n",
      "157/157 [==============================] - 0s 1ms/step\n",
      "157/157 [==============================] - 0s 1ms/step\n",
      "157/157 [==============================] - 0s 1ms/step\n",
      "157/157 [==============================] - 0s 1ms/step\n"
     ]
    },
    {
     "data": {
      "text/plain": [
       "0.5126"
      ]
     },
     "execution_count": 129,
     "metadata": {},
     "output_type": "execute_result"
    }
   ],
   "source": [
    "keras.backend.clear_session()\n",
    "tensorflow.random.set_seed(42)\n",
    "numpy.random.seed(42)\n",
    "\n",
    "y_pred = mc_dropout_predict_classes(mc_model, X_valid_scaled)\n",
    "accuracy = numpy.mean(y_pred == y_valid[:, 0])\n",
    "accuracy"
   ]
  },
  {
   "cell_type": "code",
   "execution_count": 135,
   "id": "594c3c6c-3734-466c-907e-592ff3d0fd00",
   "metadata": {},
   "outputs": [
    {
     "ename": "NameError",
     "evalue": "name 'OneCycleScheduler' is not defined",
     "output_type": "error",
     "traceback": [
      "\u001b[1;31m---------------------------------------------------------------------------\u001b[0m",
      "\u001b[1;31mNameError\u001b[0m                                 Traceback (most recent call last)",
      "Cell \u001b[1;32mIn[135], line 2\u001b[0m\n\u001b[0;32m      1\u001b[0m n_epochs \u001b[38;5;241m=\u001b[39m \u001b[38;5;241m15\u001b[39m\n\u001b[1;32m----> 2\u001b[0m onecycle \u001b[38;5;241m=\u001b[39m \u001b[43mOneCycleScheduler\u001b[49m(math\u001b[38;5;241m.\u001b[39mceil(\u001b[38;5;28mlen\u001b[39m(X_train_scaled) \u001b[38;5;241m/\u001b[39m batch_size) \u001b[38;5;241m*\u001b[39m n_epochs, max_rate\u001b[38;5;241m=\u001b[39m\u001b[38;5;241m0.05\u001b[39m)\n",
      "\u001b[1;31mNameError\u001b[0m: name 'OneCycleScheduler' is not defined"
     ]
    }
   ],
   "source": [
    "n_epochs = 15\n",
    "onecycle = OneCycleScheduler(math.ceil(len(X_train_scaled) / batch_size) * n_epochs, max_rate=0.05)"
   ]
  },
  {
   "cell_type": "code",
   "execution_count": null,
   "id": "eedc851e-d3b3-42bf-8b53-e477275bea52",
   "metadata": {},
   "outputs": [],
   "source": []
  }
 ],
 "metadata": {
  "kernelspec": {
   "display_name": "Python 3 (ipykernel)",
   "language": "python",
   "name": "python3"
  },
  "language_info": {
   "codemirror_mode": {
    "name": "ipython",
    "version": 3
   },
   "file_extension": ".py",
   "mimetype": "text/x-python",
   "name": "python",
   "nbconvert_exporter": "python",
   "pygments_lexer": "ipython3",
   "version": "3.10.9"
  }
 },
 "nbformat": 4,
 "nbformat_minor": 5
}
