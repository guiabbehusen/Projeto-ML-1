{
 "cells": [
  {
   "cell_type": "code",
   "execution_count": 14,
   "id": "0d221782-c234-438e-806f-45578b38563e",
   "metadata": {},
   "outputs": [],
   "source": [
    "import pandas"
   ]
  },
  {
   "cell_type": "code",
   "execution_count": 15,
   "id": "4dfd3f5f-774b-4f52-a0b4-f3aadeb92884",
   "metadata": {},
   "outputs": [],
   "source": [
    "import tensorflow"
   ]
  },
  {
   "cell_type": "code",
   "execution_count": 16,
   "id": "4ea7eb3b-1645-4bde-88af-51fdbe075205",
   "metadata": {},
   "outputs": [],
   "source": [
    "import keras"
   ]
  },
  {
   "cell_type": "code",
   "execution_count": 17,
   "id": "f8002021-9475-4ac8-adfe-66f5b480c68e",
   "metadata": {},
   "outputs": [],
   "source": [
    "(X_train_full, y_train_full), (X_test, y_test) = keras.datasets.mnist.load_data()"
   ]
  },
  {
   "cell_type": "code",
   "execution_count": 18,
   "id": "5854c053-76e2-45fc-8896-bbd106b0e1ca",
   "metadata": {},
   "outputs": [
    {
     "data": {
      "text/plain": [
       "(60000, 28, 28)"
      ]
     },
     "execution_count": 18,
     "metadata": {},
     "output_type": "execute_result"
    }
   ],
   "source": [
    "X_train_full.shape"
   ]
  },
  {
   "cell_type": "code",
   "execution_count": 19,
   "id": "9bbfbf82-971d-4a73-ae75-3dcd2ce22232",
   "metadata": {},
   "outputs": [],
   "source": [
    "X_valid, X_train = X_train_full[:5000] / 255., X_train_full[5000:] / 255.\n",
    "y_valid, y_train = y_train_full[:5000], y_train_full[5000:]\n",
    "X_test = X_test / 255."
   ]
  },
  {
   "cell_type": "code",
   "execution_count": 20,
   "id": "959f6015-91ed-4f41-a842-4cdf2c623d21",
   "metadata": {},
   "outputs": [],
   "source": [
    "import matplotlib.pyplot as plt"
   ]
  },
  {
   "cell_type": "code",
   "execution_count": 21,
   "id": "1add55c1-f49c-452f-9b99-009ffd4990c9",
   "metadata": {},
   "outputs": [
    {
     "data": {
      "image/png": "[encoded data removed]",
      "text/plain": [
       "<Figure size 640x480 with 1 Axes>"
      ]
     },
     "metadata": {},
     "output_type": "display_data"
    }
   ],
   "source": [
    "plt.imshow(X_train[0], cmap=\"binary\")\n",
    "plt.show()"
   ]
  },
  {
   "cell_type": "code",
   "execution_count": 35,
   "id": "e2f7ad0f-0cba-4772-aa2c-6da6ae3e535a",
   "metadata": {},
   "outputs": [],
   "source": [
    "model = keras.models.Sequential([\n",
    "    keras.layers.Flatten(input_shape=[28,28]),\n",
    "    keras.layers.Dense(300, activation=\"relu\"),\n",
    "    keras.layers.Dense(100, activation=\"relu\"),\n",
    "    keras.layers.Dense(10, activation=\"softmax\")\n",
    "    \n",
    "])"
   ]
  },
  {
   "cell_type": "code",
   "execution_count": 36,
   "id": "bc9979ca-7c26-495e-b1d7-05dc9fee68aa",
   "metadata": {},
   "outputs": [],
   "source": [
    "checkpoint = keras.callbacks.EarlyStopping(patience=10)"
   ]
  },
  {
   "cell_type": "code",
   "execution_count": 37,
   "id": "2cc4a4fb-007a-4279-8d1a-a24855fdf7b5",
   "metadata": {},
   "outputs": [],
   "source": [
    "model.compile(loss=\"sparse_categorical_crossentropy\", optimizer=keras.optimizers.SGD(learning_rate=1e-3), metrics=[\"accuracy\"])"
   ]
  },
  {
   "cell_type": "code",
   "execution_count": 38,
   "id": "f8c19145-805f-4ce7-a8bc-0c2387d6318a",
   "metadata": {},
   "outputs": [],
   "source": [
    "import os\n",
    "run_index = 1\n",
    "run_logdir = os.path.join(os.curdir, \"my_logs\", \"run_{:03d}\".format(run_index))\n",
    "tensorboard_cb = keras.callbacks.TensorBoard(run_logdir)\n",
    "checkpoint_cb = keras.callbacks.ModelCheckpoint(\"my_mnist_model.h5\", save_best_only=True)"
   ]
  },
  {
   "cell_type": "code",
   "execution_count": 39,
   "id": "3a7d249e-57d8-4e29-a113-f184756dace5",
   "metadata": {},
   "outputs": [
    {
     "name": "stdout",
     "output_type": "stream",
     "text": [
      "Epoch 1/100\n",
      "1719/1719 [==============================] - 3s 1ms/step - loss: 1.7155 - accuracy: 0.5503 - val_loss: 1.1398 - val_accuracy: 0.7758\n",
      "Epoch 2/100\n",
      "1719/1719 [==============================] - 3s 2ms/step - loss: 0.8698 - accuracy: 0.8152 - val_loss: 0.6606 - val_accuracy: 0.8472\n",
      "Epoch 3/100\n",
      "1719/1719 [==============================] - 3s 2ms/step - loss: 0.5911 - accuracy: 0.8578 - val_loss: 0.5026 - val_accuracy: 0.8746\n",
      "Epoch 4/100\n",
      "1719/1719 [==============================] - 3s 2ms/step - loss: 0.4838 - accuracy: 0.8757 - val_loss: 0.4299 - val_accuracy: 0.8876\n",
      "Epoch 5/100\n",
      "1719/1719 [==============================] - 3s 2ms/step - loss: 0.4276 - accuracy: 0.8861 - val_loss: 0.3857 - val_accuracy: 0.8972\n",
      "Epoch 6/100\n",
      "1719/1719 [==============================] - 2s 1ms/step - loss: 0.3921 - accuracy: 0.8929 - val_loss: 0.3567 - val_accuracy: 0.9032\n",
      "Epoch 7/100\n",
      "1719/1719 [==============================] - 2s 1ms/step - loss: 0.3670 - accuracy: 0.8989 - val_loss: 0.3356 - val_accuracy: 0.9094\n",
      "Epoch 8/100\n",
      "1719/1719 [==============================] - 3s 2ms/step - loss: 0.3482 - accuracy: 0.9028 - val_loss: 0.3196 - val_accuracy: 0.9136\n",
      "Epoch 9/100\n",
      "1719/1719 [==============================] - 3s 2ms/step - loss: 0.3330 - accuracy: 0.9063 - val_loss: 0.3065 - val_accuracy: 0.9158\n",
      "Epoch 10/100\n",
      "1719/1719 [==============================] - 2s 1ms/step - loss: 0.3204 - accuracy: 0.9097 - val_loss: 0.2950 - val_accuracy: 0.9172\n",
      "Epoch 11/100\n",
      "1719/1719 [==============================] - 3s 1ms/step - loss: 0.3096 - accuracy: 0.9127 - val_loss: 0.2862 - val_accuracy: 0.9216\n",
      "Epoch 12/100\n",
      "1719/1719 [==============================] - 2s 1ms/step - loss: 0.3001 - accuracy: 0.9151 - val_loss: 0.2776 - val_accuracy: 0.9226\n",
      "Epoch 13/100\n",
      "1719/1719 [==============================] - 2s 1ms/step - loss: 0.2917 - accuracy: 0.9170 - val_loss: 0.2708 - val_accuracy: 0.9256\n",
      "Epoch 14/100\n",
      "1719/1719 [==============================] - 2s 1ms/step - loss: 0.2842 - accuracy: 0.9193 - val_loss: 0.2635 - val_accuracy: 0.9276\n",
      "Epoch 15/100\n",
      "1719/1719 [==============================] - 2s 1ms/step - loss: 0.2773 - accuracy: 0.9211 - val_loss: 0.2578 - val_accuracy: 0.9306\n",
      "Epoch 16/100\n",
      "1719/1719 [==============================] - 2s 1ms/step - loss: 0.2707 - accuracy: 0.9237 - val_loss: 0.2519 - val_accuracy: 0.9320\n",
      "Epoch 17/100\n",
      "1719/1719 [==============================] - 2s 1ms/step - loss: 0.2649 - accuracy: 0.9251 - val_loss: 0.2467 - val_accuracy: 0.9330\n",
      "Epoch 18/100\n",
      "1719/1719 [==============================] - 2s 1ms/step - loss: 0.2593 - accuracy: 0.9269 - val_loss: 0.2420 - val_accuracy: 0.9338\n",
      "Epoch 19/100\n",
      "1719/1719 [==============================] - 2s 1ms/step - loss: 0.2540 - accuracy: 0.9286 - val_loss: 0.2371 - val_accuracy: 0.9350\n",
      "Epoch 20/100\n",
      "1719/1719 [==============================] - 2s 1ms/step - loss: 0.2490 - accuracy: 0.9297 - val_loss: 0.2327 - val_accuracy: 0.9360\n",
      "Epoch 21/100\n",
      "1719/1719 [==============================] - 2s 1ms/step - loss: 0.2442 - accuracy: 0.9308 - val_loss: 0.2290 - val_accuracy: 0.9374\n",
      "Epoch 22/100\n",
      "1719/1719 [==============================] - 2s 1ms/step - loss: 0.2395 - accuracy: 0.9324 - val_loss: 0.2247 - val_accuracy: 0.9372\n",
      "Epoch 23/100\n",
      "1719/1719 [==============================] - 2s 1ms/step - loss: 0.2353 - accuracy: 0.9337 - val_loss: 0.2209 - val_accuracy: 0.9396\n",
      "Epoch 24/100\n",
      "1719/1719 [==============================] - 2s 1ms/step - loss: 0.2311 - accuracy: 0.9349 - val_loss: 0.2175 - val_accuracy: 0.9402\n",
      "Epoch 25/100\n",
      "1719/1719 [==============================] - 2s 1ms/step - loss: 0.2272 - accuracy: 0.9361 - val_loss: 0.2137 - val_accuracy: 0.9406\n",
      "Epoch 26/100\n",
      "1719/1719 [==============================] - 2s 1ms/step - loss: 0.2233 - accuracy: 0.9369 - val_loss: 0.2106 - val_accuracy: 0.9410\n",
      "Epoch 27/100\n",
      "1719/1719 [==============================] - 2s 1ms/step - loss: 0.2196 - accuracy: 0.9382 - val_loss: 0.2071 - val_accuracy: 0.9430\n",
      "Epoch 28/100\n",
      "1719/1719 [==============================] - 2s 1ms/step - loss: 0.2159 - accuracy: 0.9388 - val_loss: 0.2048 - val_accuracy: 0.9428\n",
      "Epoch 29/100\n",
      "1719/1719 [==============================] - 2s 1ms/step - loss: 0.2124 - accuracy: 0.9403 - val_loss: 0.2010 - val_accuracy: 0.9434\n",
      "Epoch 30/100\n",
      "1719/1719 [==============================] - 2s 1ms/step - loss: 0.2091 - accuracy: 0.9406 - val_loss: 0.1985 - val_accuracy: 0.9454\n",
      "Epoch 31/100\n",
      "1719/1719 [==============================] - 2s 1ms/step - loss: 0.2058 - accuracy: 0.9415 - val_loss: 0.1955 - val_accuracy: 0.9462\n",
      "Epoch 32/100\n",
      "1719/1719 [==============================] - 2s 1ms/step - loss: 0.2027 - accuracy: 0.9431 - val_loss: 0.1923 - val_accuracy: 0.9468\n",
      "Epoch 33/100\n",
      "1719/1719 [==============================] - 2s 1ms/step - loss: 0.1997 - accuracy: 0.9431 - val_loss: 0.1895 - val_accuracy: 0.9476\n",
      "Epoch 34/100\n",
      "1719/1719 [==============================] - 2s 1ms/step - loss: 0.1966 - accuracy: 0.9443 - val_loss: 0.1871 - val_accuracy: 0.9492\n",
      "Epoch 35/100\n",
      "1719/1719 [==============================] - 2s 1ms/step - loss: 0.1937 - accuracy: 0.9450 - val_loss: 0.1853 - val_accuracy: 0.9512\n",
      "Epoch 36/100\n",
      "1719/1719 [==============================] - 2s 1ms/step - loss: 0.1909 - accuracy: 0.9458 - val_loss: 0.1823 - val_accuracy: 0.9512\n",
      "Epoch 37/100\n",
      "1719/1719 [==============================] - 2s 1ms/step - loss: 0.1881 - accuracy: 0.9467 - val_loss: 0.1795 - val_accuracy: 0.9518\n",
      "Epoch 38/100\n",
      "1719/1719 [==============================] - 2s 1ms/step - loss: 0.1855 - accuracy: 0.9473 - val_loss: 0.1774 - val_accuracy: 0.9520\n",
      "Epoch 39/100\n",
      "1719/1719 [==============================] - 2s 1ms/step - loss: 0.1829 - accuracy: 0.9481 - val_loss: 0.1764 - val_accuracy: 0.9546\n",
      "Epoch 40/100\n",
      "1719/1719 [==============================] - 2s 1ms/step - loss: 0.1803 - accuracy: 0.9489 - val_loss: 0.1735 - val_accuracy: 0.9538\n",
      "Epoch 41/100\n",
      "1719/1719 [==============================] - 2s 1ms/step - loss: 0.1780 - accuracy: 0.9493 - val_loss: 0.1715 - val_accuracy: 0.9560\n",
      "Epoch 42/100\n",
      "1719/1719 [==============================] - 2s 1ms/step - loss: 0.1755 - accuracy: 0.9501 - val_loss: 0.1688 - val_accuracy: 0.9560\n",
      "Epoch 43/100\n",
      "1719/1719 [==============================] - 2s 1ms/step - loss: 0.1732 - accuracy: 0.9505 - val_loss: 0.1669 - val_accuracy: 0.9562\n",
      "Epoch 44/100\n",
      "1719/1719 [==============================] - 2s 1ms/step - loss: 0.1708 - accuracy: 0.9514 - val_loss: 0.1668 - val_accuracy: 0.9580\n",
      "Epoch 45/100\n",
      "1719/1719 [==============================] - 2s 1ms/step - loss: 0.1688 - accuracy: 0.9518 - val_loss: 0.1632 - val_accuracy: 0.9576\n",
      "Epoch 46/100\n",
      "1719/1719 [==============================] - 2s 1ms/step - loss: 0.1664 - accuracy: 0.9526 - val_loss: 0.1615 - val_accuracy: 0.9582\n",
      "Epoch 47/100\n",
      "1719/1719 [==============================] - 2s 1ms/step - loss: 0.1643 - accuracy: 0.9533 - val_loss: 0.1599 - val_accuracy: 0.9588\n",
      "Epoch 48/100\n",
      "1719/1719 [==============================] - 2s 1ms/step - loss: 0.1623 - accuracy: 0.9541 - val_loss: 0.1579 - val_accuracy: 0.9612\n",
      "Epoch 49/100\n",
      "1719/1719 [==============================] - 2s 1ms/step - loss: 0.1602 - accuracy: 0.9543 - val_loss: 0.1560 - val_accuracy: 0.9596\n",
      "Epoch 50/100\n",
      "1719/1719 [==============================] - 2s 1ms/step - loss: 0.1583 - accuracy: 0.9547 - val_loss: 0.1553 - val_accuracy: 0.9598\n",
      "Epoch 51/100\n",
      "1719/1719 [==============================] - 2s 1ms/step - loss: 0.1564 - accuracy: 0.9556 - val_loss: 0.1530 - val_accuracy: 0.9602\n",
      "Epoch 52/100\n",
      "1719/1719 [==============================] - 2s 1ms/step - loss: 0.1545 - accuracy: 0.9558 - val_loss: 0.1516 - val_accuracy: 0.9614\n",
      "Epoch 53/100\n",
      "1719/1719 [==============================] - 2s 1ms/step - loss: 0.1526 - accuracy: 0.9567 - val_loss: 0.1503 - val_accuracy: 0.9618\n",
      "Epoch 54/100\n",
      "1719/1719 [==============================] - 2s 1ms/step - loss: 0.1508 - accuracy: 0.9569 - val_loss: 0.1484 - val_accuracy: 0.9604\n",
      "Epoch 55/100\n",
      "1719/1719 [==============================] - 2s 1ms/step - loss: 0.1490 - accuracy: 0.9577 - val_loss: 0.1470 - val_accuracy: 0.9614\n",
      "Epoch 56/100\n",
      "1719/1719 [==============================] - 2s 1ms/step - loss: 0.1472 - accuracy: 0.9581 - val_loss: 0.1456 - val_accuracy: 0.9622\n",
      "Epoch 57/100\n",
      "1719/1719 [==============================] - 2s 1ms/step - loss: 0.1455 - accuracy: 0.9587 - val_loss: 0.1445 - val_accuracy: 0.9622\n",
      "Epoch 58/100\n",
      "1719/1719 [==============================] - 2s 1ms/step - loss: 0.1439 - accuracy: 0.9589 - val_loss: 0.1431 - val_accuracy: 0.9616\n",
      "Epoch 59/100\n",
      "1719/1719 [==============================] - 2s 1ms/step - loss: 0.1423 - accuracy: 0.9597 - val_loss: 0.1417 - val_accuracy: 0.9630\n",
      "Epoch 60/100\n",
      "1719/1719 [==============================] - 2s 1ms/step - loss: 0.1406 - accuracy: 0.9603 - val_loss: 0.1414 - val_accuracy: 0.9620\n",
      "Epoch 61/100\n",
      "1719/1719 [==============================] - 2s 1ms/step - loss: 0.1391 - accuracy: 0.9606 - val_loss: 0.1395 - val_accuracy: 0.9618\n",
      "Epoch 62/100\n",
      "1719/1719 [==============================] - 2s 1ms/step - loss: 0.1376 - accuracy: 0.9611 - val_loss: 0.1384 - val_accuracy: 0.9638\n",
      "Epoch 63/100\n",
      "1719/1719 [==============================] - 2s 1ms/step - loss: 0.1360 - accuracy: 0.9615 - val_loss: 0.1379 - val_accuracy: 0.9648\n",
      "Epoch 64/100\n",
      "1719/1719 [==============================] - 3s 1ms/step - loss: 0.1346 - accuracy: 0.9617 - val_loss: 0.1359 - val_accuracy: 0.9638\n",
      "Epoch 65/100\n",
      "1719/1719 [==============================] - 2s 1ms/step - loss: 0.1332 - accuracy: 0.9624 - val_loss: 0.1349 - val_accuracy: 0.9646\n",
      "Epoch 66/100\n",
      "1719/1719 [==============================] - 2s 1ms/step - loss: 0.1317 - accuracy: 0.9630 - val_loss: 0.1337 - val_accuracy: 0.9648\n",
      "Epoch 67/100\n",
      "1719/1719 [==============================] - 2s 1ms/step - loss: 0.1303 - accuracy: 0.9631 - val_loss: 0.1331 - val_accuracy: 0.9646\n",
      "Epoch 68/100\n",
      "1719/1719 [==============================] - 2s 1ms/step - loss: 0.1290 - accuracy: 0.9636 - val_loss: 0.1319 - val_accuracy: 0.9660\n",
      "Epoch 69/100\n",
      "1719/1719 [==============================] - 2s 1ms/step - loss: 0.1276 - accuracy: 0.9642 - val_loss: 0.1310 - val_accuracy: 0.9650\n",
      "Epoch 70/100\n",
      "1719/1719 [==============================] - 2s 1ms/step - loss: 0.1263 - accuracy: 0.9642 - val_loss: 0.1300 - val_accuracy: 0.9658\n",
      "Epoch 71/100\n",
      "1719/1719 [==============================] - 2s 1ms/step - loss: 0.1250 - accuracy: 0.9647 - val_loss: 0.1288 - val_accuracy: 0.9662\n",
      "Epoch 72/100\n",
      "1719/1719 [==============================] - 2s 1ms/step - loss: 0.1238 - accuracy: 0.9651 - val_loss: 0.1280 - val_accuracy: 0.9654\n",
      "Epoch 73/100\n",
      "1719/1719 [==============================] - 2s 1ms/step - loss: 0.1224 - accuracy: 0.9654 - val_loss: 0.1270 - val_accuracy: 0.9664\n",
      "Epoch 74/100\n",
      "1719/1719 [==============================] - 2s 1ms/step - loss: 0.1212 - accuracy: 0.9657 - val_loss: 0.1264 - val_accuracy: 0.9662\n",
      "Epoch 75/100\n",
      "1719/1719 [==============================] - 2s 1ms/step - loss: 0.1201 - accuracy: 0.9663 - val_loss: 0.1253 - val_accuracy: 0.9672\n",
      "Epoch 76/100\n",
      "1719/1719 [==============================] - 2s 1ms/step - loss: 0.1188 - accuracy: 0.9666 - val_loss: 0.1242 - val_accuracy: 0.9666\n",
      "Epoch 77/100\n",
      "1719/1719 [==============================] - 2s 1ms/step - loss: 0.1177 - accuracy: 0.9670 - val_loss: 0.1238 - val_accuracy: 0.9676\n",
      "Epoch 78/100\n",
      "1719/1719 [==============================] - 2s 1ms/step - loss: 0.1165 - accuracy: 0.9673 - val_loss: 0.1227 - val_accuracy: 0.9674\n",
      "Epoch 79/100\n",
      "1719/1719 [==============================] - 2s 1ms/step - loss: 0.1154 - accuracy: 0.9676 - val_loss: 0.1225 - val_accuracy: 0.9680\n",
      "Epoch 80/100\n",
      "1719/1719 [==============================] - 2s 1ms/step - loss: 0.1143 - accuracy: 0.9677 - val_loss: 0.1210 - val_accuracy: 0.9684\n",
      "Epoch 81/100\n",
      "1719/1719 [==============================] - 2s 1ms/step - loss: 0.1132 - accuracy: 0.9679 - val_loss: 0.1207 - val_accuracy: 0.9694\n",
      "Epoch 82/100\n",
      "1719/1719 [==============================] - 2s 1ms/step - loss: 0.1121 - accuracy: 0.9685 - val_loss: 0.1191 - val_accuracy: 0.9684\n",
      "Epoch 83/100\n",
      "1719/1719 [==============================] - 2s 1ms/step - loss: 0.1110 - accuracy: 0.9689 - val_loss: 0.1184 - val_accuracy: 0.9690\n",
      "Epoch 84/100\n",
      "1719/1719 [==============================] - 2s 1ms/step - loss: 0.1100 - accuracy: 0.9690 - val_loss: 0.1176 - val_accuracy: 0.9690\n",
      "Epoch 85/100\n",
      "1719/1719 [==============================] - 2s 1ms/step - loss: 0.1089 - accuracy: 0.9694 - val_loss: 0.1174 - val_accuracy: 0.9688\n",
      "Epoch 86/100\n",
      "1719/1719 [==============================] - 2s 1ms/step - loss: 0.1079 - accuracy: 0.9699 - val_loss: 0.1173 - val_accuracy: 0.9692\n",
      "Epoch 87/100\n",
      "1719/1719 [==============================] - 2s 1ms/step - loss: 0.1069 - accuracy: 0.9703 - val_loss: 0.1157 - val_accuracy: 0.9696\n",
      "Epoch 88/100\n",
      "1719/1719 [==============================] - 2s 1ms/step - loss: 0.1059 - accuracy: 0.9705 - val_loss: 0.1150 - val_accuracy: 0.9694\n",
      "Epoch 89/100\n",
      "1719/1719 [==============================] - 2s 1ms/step - loss: 0.1049 - accuracy: 0.9708 - val_loss: 0.1143 - val_accuracy: 0.9704\n",
      "Epoch 90/100\n",
      "1719/1719 [==============================] - 2s 1ms/step - loss: 0.1040 - accuracy: 0.9710 - val_loss: 0.1139 - val_accuracy: 0.9702\n",
      "Epoch 91/100\n",
      "1719/1719 [==============================] - 2s 1ms/step - loss: 0.1030 - accuracy: 0.9713 - val_loss: 0.1130 - val_accuracy: 0.9706\n",
      "Epoch 92/100\n",
      "1719/1719 [==============================] - 2s 1ms/step - loss: 0.1021 - accuracy: 0.9718 - val_loss: 0.1124 - val_accuracy: 0.9710\n",
      "Epoch 93/100\n",
      "1719/1719 [==============================] - 2s 1ms/step - loss: 0.1012 - accuracy: 0.9717 - val_loss: 0.1115 - val_accuracy: 0.9710\n",
      "Epoch 94/100\n",
      "1719/1719 [==============================] - 2s 1ms/step - loss: 0.1003 - accuracy: 0.9719 - val_loss: 0.1108 - val_accuracy: 0.9706\n",
      "Epoch 95/100\n",
      "1719/1719 [==============================] - 2s 1ms/step - loss: 0.0994 - accuracy: 0.9720 - val_loss: 0.1107 - val_accuracy: 0.9710\n",
      "Epoch 96/100\n",
      "1719/1719 [==============================] - 2s 1ms/step - loss: 0.0985 - accuracy: 0.9724 - val_loss: 0.1100 - val_accuracy: 0.9710\n",
      "Epoch 97/100\n",
      "1719/1719 [==============================] - 2s 1ms/step - loss: 0.0977 - accuracy: 0.9729 - val_loss: 0.1095 - val_accuracy: 0.9712\n",
      "Epoch 98/100\n",
      "1719/1719 [==============================] - 2s 1ms/step - loss: 0.0968 - accuracy: 0.9730 - val_loss: 0.1085 - val_accuracy: 0.9718\n",
      "Epoch 99/100\n",
      "1719/1719 [==============================] - 2s 1ms/step - loss: 0.0959 - accuracy: 0.9732 - val_loss: 0.1083 - val_accuracy: 0.9718\n",
      "Epoch 100/100\n",
      "1719/1719 [==============================] - 3s 2ms/step - loss: 0.0951 - accuracy: 0.9736 - val_loss: 0.1074 - val_accuracy: 0.9712\n"
     ]
    }
   ],
   "source": [
    "history = model.fit(X_train, y_train, epochs=100, validation_data=[X_valid, y_valid], callbacks=[checkpoint, checkpoint_cb, tensorboard_cb])"
   ]
  },
  {
   "cell_type": "code",
   "execution_count": 40,
   "id": "a59af995-814f-4c39-82d1-424b21da4232",
   "metadata": {},
   "outputs": [
    {
     "name": "stdout",
     "output_type": "stream",
     "text": [
      "313/313 [==============================] - 0s 1ms/step - loss: 0.1120 - accuracy: 0.9676\n"
     ]
    },
    {
     "data": {
      "text/plain": [
       "[0.11200754344463348, 0.9675999879837036]"
      ]
     },
     "execution_count": 40,
     "metadata": {},
     "output_type": "execute_result"
    }
   ],
   "source": [
    "model = keras.models.load_model(\"my_mnist_model.h5\")\n",
    "model.evaluate(X_test, y_test)"
   ]
  },
  {
   "cell_type": "code",
   "execution_count": 42,
   "id": "37bf01af-c8ec-4499-b73c-53bb7df855d3",
   "metadata": {},
   "outputs": [
    {
     "name": "stdout",
     "output_type": "stream",
     "text": [
      "The tensorboard extension is already loaded. To reload it, use:\n",
      "  %reload_ext tensorboard\n"
     ]
    },
    {
     "data": {
      "text/html": [
       "\n",
       "      <iframe id=\"tensorboard-frame-6425dd598f1ff9f1\" width=\"100%\" height=\"800\" frameborder=\"0\">\n",
       "      </iframe>\n",
       "      <script>\n",
       "        (function() {\n",
       "          const frame = document.getElementById(\"tensorboard-frame-6425dd598f1ff9f1\");\n",
       "          const url = new URL(\"/\", window.location);\n",
       "          const port = 6006;\n",
       "          if (port) {\n",
       "            url.port = port;\n",
       "          }\n",
       "          frame.src = url;\n",
       "        })();\n",
       "      </script>\n",
       "    "
      ],
      "text/plain": [
       "<IPython.core.display.HTML object>"
      ]
     },
     "metadata": {},
     "output_type": "display_data"
    }
   ],
   "source": [
    "%load_ext tensorboard\n",
    "%tensorboard --logdir=\"C:/Users/User/Documents/GitHub/Projeto-ML-1/my_logs\""
   ]
  },
  {
   "cell_type": "code",
   "execution_count": 43,
   "id": "f31f7f58-cbc0-49ae-8016-c19bd95e12d1",
   "metadata": {},
   "outputs": [
    {
     "name": "stdout",
     "output_type": "stream",
     "text": [
      ".\\my_logs\\run_001\n"
     ]
    }
   ],
   "source": [
    "print(run_logdir)"
   ]
  },
  {
   "cell_type": "code",
   "execution_count": null,
   "id": "5865b807-f144-44dc-98f6-dd8671db2cb6",
   "metadata": {},
   "outputs": [],
   "source": []
  },
  {
   "cell_type": "code",
   "execution_count": null,
   "id": "cbd57fac-79b9-4dd3-9166-bac1a5324e0b",
   "metadata": {},
   "outputs": [],
   "source": []
  }
 ],
 "metadata": {
  "kernelspec": {
   "display_name": "Python 3 (ipykernel)",
   "language": "python",
   "name": "python3"
  },
  "language_info": {
   "codemirror_mode": {
    "name": "ipython",
    "version": 3
   },
   "file_extension": ".py",
   "mimetype": "text/x-python",
   "name": "python",
   "nbconvert_exporter": "python",
   "pygments_lexer": "ipython3",
   "version": "3.10.9"
  }
 },
 "nbformat": 4,
 "nbformat_minor": 5
}
