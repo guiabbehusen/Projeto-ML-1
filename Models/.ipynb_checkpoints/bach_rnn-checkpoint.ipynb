{
 "cells": [
  {
   "cell_type": "code",
   "execution_count": 4,
   "id": "3b30cbe8",
   "metadata": {},
   "outputs": [
    {
     "ename": "ModuleNotFoundError",
     "evalue": "No module named 'Path'",
     "output_type": "error",
     "traceback": [
      "\u001b[1;31m---------------------------------------------------------------------------\u001b[0m",
      "\u001b[1;31mModuleNotFoundError\u001b[0m                       Traceback (most recent call last)",
      "\u001b[1;32m~\\AppData\\Local\\Temp\\ipykernel_6828\\121243593.py\u001b[0m in \u001b[0;36m<module>\u001b[1;34m\u001b[0m\n\u001b[0;32m      2\u001b[0m \u001b[1;32mimport\u001b[0m \u001b[0murllib\u001b[0m\u001b[1;33m.\u001b[0m\u001b[0mrequest\u001b[0m\u001b[1;33m\u001b[0m\u001b[1;33m\u001b[0m\u001b[0m\n\u001b[0;32m      3\u001b[0m \u001b[1;32mimport\u001b[0m \u001b[0mtarfile\u001b[0m\u001b[1;33m\u001b[0m\u001b[1;33m\u001b[0m\u001b[0m\n\u001b[1;32m----> 4\u001b[1;33m \u001b[1;32mimport\u001b[0m \u001b[0mPath\u001b[0m\u001b[1;33m\u001b[0m\u001b[1;33m\u001b[0m\u001b[0m\n\u001b[0m",
      "\u001b[1;31mModuleNotFoundError\u001b[0m: No module named 'Path'"
     ]
    }
   ],
   "source": [
    "import os\n",
    "import urllib.request\n",
    "import tarfile"
   ]
  },
  {
   "cell_type": "code",
   "execution_count": 3,
   "id": "57955b21",
   "metadata": {},
   "outputs": [],
   "source": [
    "url=\"https://homl.info/bach\""
   ]
  },
  {
   "cell_type": "code",
   "execution_count": 5,
   "id": "967ec90d",
   "metadata": {},
   "outputs": [],
   "source": [
    "filename=\"jsb_chorales.tgz\""
   ]
  },
  {
   "cell_type": "code",
   "execution_count": 10,
   "id": "a113fbef",
   "metadata": {},
   "outputs": [],
   "source": [
    "folder=\"datasets/bach\"\n",
    "os.makedirs(folder, exist_ok=True)"
   ]
  },
  {
   "cell_type": "code",
   "execution_count": 11,
   "id": "43c74481",
   "metadata": {},
   "outputs": [
    {
     "data": {
      "text/plain": [
       "('datasets/bach\\\\jsb_chorales.tgz', <http.client.HTTPMessage at 0x1cb54f21d00>)"
      ]
     },
     "execution_count": 11,
     "metadata": {},
     "output_type": "execute_result"
    }
   ],
   "source": [
    "urllib.request.urlretrieve(url, os.path.join(folder, filename))"
   ]
  },
  {
   "cell_type": "code",
   "execution_count": 13,
   "id": "8a02a605",
   "metadata": {},
   "outputs": [],
   "source": [
    "with tarfile.open(os.path.join(folder, filename), \"r\") as f:\n",
    "    f.extractall(path=folder)"
   ]
  },
  {
   "cell_type": "code",
   "execution_count": null,
   "id": "f6b22ae1",
   "metadata": {},
   "outputs": [],
   "source": []
  }
 ],
 "metadata": {
  "kernelspec": {
   "display_name": "Python 3 (ipykernel)",
   "language": "python",
   "name": "python3"
  },
  "language_info": {
   "codemirror_mode": {
    "name": "ipython",
    "version": 3
   },
   "file_extension": ".py",
   "mimetype": "text/x-python",
   "name": "python",
   "nbconvert_exporter": "python",
   "pygments_lexer": "ipython3",
   "version": "3.8.15"
  }
 },
 "nbformat": 4,
 "nbformat_minor": 5
}
