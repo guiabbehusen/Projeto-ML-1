{
 "cells": [
  {
   "cell_type": "code",
   "execution_count": 25,
   "id": "8912ddf9-3c01-4b85-86cb-763ea0fa5a79",
   "metadata": {},
   "outputs": [],
   "source": [
    "import pandas as pd\n",
    "import numpy as np\n",
    "import os"
   ]
  },
  {
   "cell_type": "code",
   "execution_count": 26,
   "id": "0c7eea91-53e3-44d1-adab-553277f1db4b",
   "metadata": {},
   "outputs": [],
   "source": [
    "SPAM_PATH = \"C:\\\\Users\\\\guiso\\\\Documents\\\\GitHub\\\\ml\\\\datasets\\\\spam\""
   ]
  },
  {
   "cell_type": "code",
   "execution_count": 27,
   "id": "c280a7da-6d3f-4568-ae74-f9a75484ce87",
   "metadata": {},
   "outputs": [],
   "source": [
    "HAM_PATH = \"C:\\\\Users\\\\guiso\\\\Documents\\\\GitHub\\\\ml\\\\datasets\\\\easy_ham\""
   ]
  },
  {
   "cell_type": "code",
   "execution_count": 28,
   "id": "fa200337-30f0-433b-8898-79a2152a8066",
   "metadata": {},
   "outputs": [],
   "source": [
    "ham_filenames = [name for name in sorted(os.listdir(HAM_PATH)) if len(name)>20]"
   ]
  },
  {
   "cell_type": "code",
   "execution_count": 29,
   "id": "09ad9e61-795b-4725-974b-6e24e07ea122",
   "metadata": {},
   "outputs": [],
   "source": [
    "spam_filenames = [name for name in sorted(os.listdir(SPAM_PATH)) if len(name)>20]"
   ]
  },
  {
   "cell_type": "code",
   "execution_count": 30,
   "id": "435cb823-15f8-4880-a9b2-893a8dff9b0c",
   "metadata": {},
   "outputs": [
    {
     "data": {
      "text/plain": [
       "500"
      ]
     },
     "execution_count": 30,
     "metadata": {},
     "output_type": "execute_result"
    }
   ],
   "source": [
    "len(spam_filenames)"
   ]
  },
  {
   "cell_type": "code",
   "execution_count": 31,
   "id": "642c3259-5d36-435c-8bb3-9b32e59f701f",
   "metadata": {},
   "outputs": [
    {
     "data": {
      "text/plain": [
       "2500"
      ]
     },
     "execution_count": 31,
     "metadata": {},
     "output_type": "execute_result"
    }
   ],
   "source": [
    "len(ham_filenames)"
   ]
  },
  {
   "cell_type": "code",
   "execution_count": 32,
   "id": "d93e299c-93a0-42ab-bf64-ea3a08b773c7",
   "metadata": {},
   "outputs": [],
   "source": [
    "import email\n",
    "import email.policy"
   ]
  },
  {
   "cell_type": "code",
   "execution_count": 40,
   "id": "1e09250c-d176-4235-8290-7c87f500351c",
   "metadata": {},
   "outputs": [],
   "source": [
    "def load_email(is_spam, filename, spam_path=\"C:\\\\Users\\\\guiso\\\\Documents\\\\GitHub\\\\ml\\\\datasets\"):\n",
    "    directory = \"spam\" if is_spam else \"easy_ham\"\n",
    "    with open(os.path.join(spam_path, directory, filename), \"rb\") as f:\n",
    "        return email.parser.BytesParser(policy=email.policy.default).parse(f)"
   ]
  },
  {
   "cell_type": "code",
   "execution_count": 41,
   "id": "8cd91cfd-a13b-4ec1-94a8-8864efdb6ae1",
   "metadata": {},
   "outputs": [],
   "source": [
    "ham_emails = [load_email(is_spam=False, filename=name) for name in ham_filenames]\n",
    "spam_emails = [load_email(is_spam=True, filename=name) for name in spam_filenames]"
   ]
  },
  {
   "cell_type": "code",
   "execution_count": 42,
   "id": "e227befa-6a84-4495-94d0-00627d70562c",
   "metadata": {},
   "outputs": [
    {
     "name": "stdout",
     "output_type": "stream",
     "text": [
      "Martin A posted:\n",
      "Tassos Papadopoulos, the Greek sculptor behind the plan, judged that the\n",
      " limestone of Mount Kerdylio, 70 miles east of Salonika and not far from the\n",
      " Mount Athos monastic community, was ideal for the patriotic sculpture. \n",
      " \n",
      " As well as Alexander's granite features, 240 ft high and 170 ft wide, a\n",
      " museum, a restored amphitheatre and car park for admiring crowds are\n",
      "planned\n",
      "---------------------\n",
      "So is this mountain limestone or granite?\n",
      "If it's limestone, it'll weather pretty fast.\n",
      "\n",
      "------------------------ Yahoo! Groups Sponsor ---------------------~-->\n",
      "4 DVDs Free +s&p Join Now\n",
      "http://us.click.yahoo.com/pt6YBB/NXiEAA/mG3HAA/7gSolB/TM\n",
      "---------------------------------------------------------------------~->\n",
      "\n",
      "To unsubscribe from this group, send an email to:\n",
      "forteana-unsubscribe@egroups.com\n",
      "\n",
      " \n",
      "\n",
      "Your use of Yahoo! Groups is subject to http://docs.yahoo.com/info/terms/\n"
     ]
    }
   ],
   "source": [
    "print(ham_emails[1].get_content().strip())"
   ]
  },
  {
   "cell_type": "code",
   "execution_count": 46,
   "id": "99059648-6baa-4215-b45d-e5b3f1d983e5",
   "metadata": {},
   "outputs": [],
   "source": [
    "def get_email_structured(email):\n",
    "    if isinstance(email, srt):\n",
    "        return email\n",
    "    payload = email.get_payload()\n",
    "    if isinstance(payload, list):\n",
    "        return \"multipart({})\".format(\", \".join([\n",
    "            get_email_structure(sub_email)\n",
    "            for sub_email in payload\n",
    "        ]))\n",
    "    else: \n",
    "        return email.get_content_type()"
   ]
  },
  {
   "cell_type": "code",
   "execution_count": null,
   "id": "718a43b9-233b-467a-b1e3-fe1ea1a50bf2",
   "metadata": {},
   "outputs": [],
   "source": []
  }
 ],
 "metadata": {
  "kernelspec": {
   "display_name": "Python 3 (ipykernel)",
   "language": "python",
   "name": "python3"
  },
  "language_info": {
   "codemirror_mode": {
    "name": "ipython",
    "version": 3
   },
   "file_extension": ".py",
   "mimetype": "text/x-python",
   "name": "python",
   "nbconvert_exporter": "python",
   "pygments_lexer": "ipython3",
   "version": "3.13.0"
  }
 },
 "nbformat": 4,
 "nbformat_minor": 5
}
